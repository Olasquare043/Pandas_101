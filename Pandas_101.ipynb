{
 "cells": [
  {
   "cell_type": "markdown",
   "id": "b50ddb17-042a-4f95-9c5a-748209bd0217",
   "metadata": {
    "id": "b50ddb17-042a-4f95-9c5a-748209bd0217"
   },
   "source": []
  },
  {
   "cell_type": "code",
   "execution_count": 1,
   "id": "NRXDAcFu8P5T",
   "metadata": {
    "id": "NRXDAcFu8P5T"
   },
   "outputs": [],
   "source": [
    "import pandas as pd\n",
    "import os "
   ]
  },
  {
   "cell_type": "code",
   "execution_count": 2,
   "id": "a653ba04-6b4e-45ab-886d-807a0041b68f",
   "metadata": {
    "id": "a653ba04-6b4e-45ab-886d-807a0041b68f"
   },
   "outputs": [],
   "source": [
    "# loc and iloc are called indexers\n",
    "# LEts learn how they work and how they differ from each other\n",
    "# For .xlsx\n",
    "sales = pd.read_csv(\"sales_data.xlsx\")"
   ]
  },
  {
   "cell_type": "markdown",
   "id": "3200e51d-ece5-4006-bf7b-139e9fd572fa",
   "metadata": {
    "id": "3200e51d-ece5-4006-bf7b-139e9fd572fa"
   },
   "source": [
    "## Exploratory Data Analysis\n",
    "* We would be doing something exciting with this dataset, We do not have any particular objective...\n",
    "* As we wrangle, we would find a direction to stake our claim and dig down as much as we can to uncover hidden insights, let me say treasures...\n",
    "* Its going to be such an interesting and exciting wrangling journey...\n",
    "* LEts go ahead and wrangle, wrangle and wrangle..."
   ]
  },
  {
   "cell_type": "code",
   "execution_count": null,
   "id": "087fca17-8710-4547-91b1-3ed9e4667a21",
   "metadata": {
    "id": "087fca17-8710-4547-91b1-3ed9e4667a21",
    "outputId": "00f7ef3f-6154-479d-a0c0-ddafe916e096"
   },
   "outputs": [],
   "source": [
    "sales.head(3)"
   ]
  },
  {
   "cell_type": "code",
   "execution_count": null,
   "id": "204068c2-771d-4866-8f47-40b77c2e9a7e",
   "metadata": {
    "id": "204068c2-771d-4866-8f47-40b77c2e9a7e",
    "outputId": "2dbc31b8-dc15-46d3-ca95-17244430efd1"
   },
   "outputs": [],
   "source": [
    "sales.isna().sum()"
   ]
  },
  {
   "cell_type": "code",
   "execution_count": null,
   "id": "bd0b6033-0818-4743-abda-8e07b1ef6601",
   "metadata": {
    "id": "bd0b6033-0818-4743-abda-8e07b1ef6601",
    "outputId": "9b3938b2-2f2d-46cc-a9a5-1224f3cd4a03"
   },
   "outputs": [],
   "source": [
    "sales.shape\n",
    "sales.head()"
   ]
  },
  {
   "cell_type": "code",
   "execution_count": null,
   "id": "11c69e5a-ecc9-4d9f-9feb-e1c700b97bfd",
   "metadata": {
    "id": "11c69e5a-ecc9-4d9f-9feb-e1c700b97bfd",
    "outputId": "bb1fca81-03c6-49ef-f4ec-35b0d3e6e00d"
   },
   "outputs": [],
   "source": [
    "# for loc and iloc, argument 1 is for rows while argument 2 is for columns\n",
    "# the main purpose of the loc and iloc is for indexing\n",
    "\n",
    "# Using loc\n",
    "a=[1,3,5,6]\n",
    "sales.loc[a] # this works with both interger and strings...\n",
    "#sales.loc[[0,2,4,6]] #list of the row I want to separate... double braces..."
   ]
  },
  {
   "cell_type": "code",
   "execution_count": null,
   "id": "09fa4001-17d8-42d2-ad4d-332a7127aea8",
   "metadata": {
    "id": "09fa4001-17d8-42d2-ad4d-332a7127aea8",
    "outputId": "848ed0ea-46bd-4c10-cf38-12d2a0a8bea6"
   },
   "outputs": [],
   "source": [
    "# Using iloc\n",
    "sales.iloc[[0,2,4,6]] # this works with only integers"
   ]
  },
  {
   "cell_type": "code",
   "execution_count": null,
   "id": "177c8615-163c-4e30-99f1-1c6da8985c99",
   "metadata": {
    "id": "177c8615-163c-4e30-99f1-1c6da8985c99",
    "outputId": "ea6d9dfd-eb20-4307-b433-074e64c6d934"
   },
   "outputs": [],
   "source": [
    "# Indexing columns... this one is having first arguement for the row and second arguement for the column using column names 0r strings\n",
    "\n",
    "sales.loc[[0,2,4,6],['customer_id','device_id','item_id']]"
   ]
  },
  {
   "cell_type": "code",
   "execution_count": null,
   "id": "8c27ff19-6bd1-433f-beb2-faaccf9e546c",
   "metadata": {
    "id": "8c27ff19-6bd1-433f-beb2-faaccf9e546c",
    "outputId": "7a68bc92-f1c2-4080-a94f-73cc7f5ea013"
   },
   "outputs": [],
   "source": [
    "# Indexing columns... this one is having first arguement for the row and the second arguement  for row but takinng the idex number\n",
    "sales.iloc[[0,2,4,6],[0,1,2,3]]"
   ]
  },
  {
   "cell_type": "code",
   "execution_count": null,
   "id": "5a830cd3-79a6-408c-9ea4-55fb98005c8b",
   "metadata": {
    "id": "5a830cd3-79a6-408c-9ea4-55fb98005c8b",
    "outputId": "052acf2b-768d-4795-e249-89142847218e"
   },
   "outputs": [],
   "source": [
    "# Slicing using iloc and loc\n",
    "\n",
    "sales.iloc[::]\n",
    "#sales.iloc[:]\n",
    "#sales.iloc[0:-1] # all of this 3 gives the same output in slicing, returninng all of the rows.."
   ]
  },
  {
   "cell_type": "code",
   "execution_count": null,
   "id": "d3e20ed1-17a0-453c-ac9a-710c3e1755aa",
   "metadata": {
    "id": "d3e20ed1-17a0-453c-ac9a-710c3e1755aa",
    "outputId": "ccf23a6d-c6f2-45a8-886f-0394c921f346"
   },
   "outputs": [],
   "source": [
    "# Using loc...\n",
    "#sales.loc[:] # this does the samething as above...\n",
    "#sales.loc[::]\n",
    "sales.iloc[-1:] # this is quite different of that of .iloc[]"
   ]
  },
  {
   "cell_type": "code",
   "execution_count": null,
   "id": "c81b3bf8-230c-4246-a19a-93ef45919f48",
   "metadata": {
    "id": "c81b3bf8-230c-4246-a19a-93ef45919f48",
    "outputId": "447b3d55-344b-4c06-8583-fd7e3a3c2a0f"
   },
   "outputs": [],
   "source": [
    "# Lets use loc and iloc to slice columns...\n",
    "sales.loc[0:4,'customer_id':'item_id'] # Pick from row 0 to 4, and column 1 to 3..."
   ]
  },
  {
   "cell_type": "code",
   "execution_count": null,
   "id": "179c0977-cd99-4250-b375-79b161778c27",
   "metadata": {
    "id": "179c0977-cd99-4250-b375-79b161778c27",
    "outputId": "4f2d968b-6ae1-4692-c121-453751c3eaf1"
   },
   "outputs": [],
   "source": [
    "# Using iloc for integer or index numbers\n",
    "sales.iloc[0:4,0:4]"
   ]
  },
  {
   "cell_type": "code",
   "execution_count": null,
   "id": "528e05fe-e955-4639-864a-8544a61a2464",
   "metadata": {
    "id": "528e05fe-e955-4639-864a-8544a61a2464",
    "outputId": "a7176699-e774-409d-bfa8-67776a0c5827"
   },
   "outputs": [],
   "source": [
    "sales.iloc[0:-1,1:4]"
   ]
  },
  {
   "cell_type": "code",
   "execution_count": 3,
   "id": "42e2fd06-ea47-4f3d-9291-1391e43f8fa7",
   "metadata": {
    "id": "42e2fd06-ea47-4f3d-9291-1391e43f8fa7"
   },
   "outputs": [],
   "source": [
    "# lets work with index...using loc and iloc...\n",
    "sales.set_index(\"location\", inplace = True)"
   ]
  },
  {
   "cell_type": "code",
   "execution_count": 4,
   "id": "a5d0c1e8-f79c-43f8-b874-c4e0c8d96139",
   "metadata": {
    "id": "a5d0c1e8-f79c-43f8-b874-c4e0c8d96139",
    "outputId": "1b44b31a-4172-4998-8b24-63b776eb7393"
   },
   "outputs": [
    {
     "data": {
      "text/html": [
       "<div>\n",
       "<style scoped>\n",
       "    .dataframe tbody tr th:only-of-type {\n",
       "        vertical-align: middle;\n",
       "    }\n",
       "\n",
       "    .dataframe tbody tr th {\n",
       "        vertical-align: top;\n",
       "    }\n",
       "\n",
       "    .dataframe thead th {\n",
       "        text-align: right;\n",
       "    }\n",
       "</style>\n",
       "<table border=\"1\" class=\"dataframe\">\n",
       "  <thead>\n",
       "    <tr style=\"text-align: right;\">\n",
       "      <th></th>\n",
       "      <th>customer_id</th>\n",
       "      <th>device_id</th>\n",
       "      <th>item_id</th>\n",
       "      <th>line_item_id</th>\n",
       "      <th>order_id</th>\n",
       "      <th>event_id</th>\n",
       "      <th>event_timestamp</th>\n",
       "      <th>quantity</th>\n",
       "      <th>currency</th>\n",
       "      <th>checked_out_at</th>\n",
       "      <th>status</th>\n",
       "    </tr>\n",
       "    <tr>\n",
       "      <th>location</th>\n",
       "      <th></th>\n",
       "      <th></th>\n",
       "      <th></th>\n",
       "      <th></th>\n",
       "      <th></th>\n",
       "      <th></th>\n",
       "      <th></th>\n",
       "      <th></th>\n",
       "      <th></th>\n",
       "      <th></th>\n",
       "      <th></th>\n",
       "    </tr>\n",
       "  </thead>\n",
       "  <tbody>\n",
       "    <tr>\n",
       "      <th>Saint Helena</th>\n",
       "      <td>cda7bec0-7cbf-4145-baf9-e049bab94504</td>\n",
       "      <td>33b485de-7338-4997-b1d0-b988ba17b245</td>\n",
       "      <td>4</td>\n",
       "      <td>3201</td>\n",
       "      <td>9e950ce3-2e12-479c-a051-493c1a497d49</td>\n",
       "      <td>14786</td>\n",
       "      <td>2024-03-26 22:05:58.863661</td>\n",
       "      <td>2</td>\n",
       "      <td>NGN</td>\n",
       "      <td>2024-03-30 04:19:10.406794</td>\n",
       "      <td>success</td>\n",
       "    </tr>\n",
       "    <tr>\n",
       "      <th>Saint Helena</th>\n",
       "      <td>cda7bec0-7cbf-4145-baf9-e049bab94504</td>\n",
       "      <td>33b485de-7338-4997-b1d0-b988ba17b245</td>\n",
       "      <td>5</td>\n",
       "      <td>3202</td>\n",
       "      <td>9e950ce3-2e12-479c-a051-493c1a497d49</td>\n",
       "      <td>14786</td>\n",
       "      <td>2024-03-26 22:05:58.863661</td>\n",
       "      <td>4</td>\n",
       "      <td>NGN</td>\n",
       "      <td>2024-03-30 04:19:10.406794</td>\n",
       "      <td>success</td>\n",
       "    </tr>\n",
       "    <tr>\n",
       "      <th>Saint Helena</th>\n",
       "      <td>cda7bec0-7cbf-4145-baf9-e049bab94504</td>\n",
       "      <td>33b485de-7338-4997-b1d0-b988ba17b245</td>\n",
       "      <td>9</td>\n",
       "      <td>3203</td>\n",
       "      <td>9e950ce3-2e12-479c-a051-493c1a497d49</td>\n",
       "      <td>14786</td>\n",
       "      <td>2024-03-26 22:05:58.863661</td>\n",
       "      <td>5</td>\n",
       "      <td>NGN</td>\n",
       "      <td>2024-03-30 04:19:10.406794</td>\n",
       "      <td>success</td>\n",
       "    </tr>\n",
       "  </tbody>\n",
       "</table>\n",
       "</div>"
      ],
      "text/plain": [
       "                                       customer_id  \\\n",
       "location                                             \n",
       "Saint Helena  cda7bec0-7cbf-4145-baf9-e049bab94504   \n",
       "Saint Helena  cda7bec0-7cbf-4145-baf9-e049bab94504   \n",
       "Saint Helena  cda7bec0-7cbf-4145-baf9-e049bab94504   \n",
       "\n",
       "                                         device_id  item_id  line_item_id  \\\n",
       "location                                                                    \n",
       "Saint Helena  33b485de-7338-4997-b1d0-b988ba17b245        4          3201   \n",
       "Saint Helena  33b485de-7338-4997-b1d0-b988ba17b245        5          3202   \n",
       "Saint Helena  33b485de-7338-4997-b1d0-b988ba17b245        9          3203   \n",
       "\n",
       "                                          order_id  event_id  \\\n",
       "location                                                       \n",
       "Saint Helena  9e950ce3-2e12-479c-a051-493c1a497d49     14786   \n",
       "Saint Helena  9e950ce3-2e12-479c-a051-493c1a497d49     14786   \n",
       "Saint Helena  9e950ce3-2e12-479c-a051-493c1a497d49     14786   \n",
       "\n",
       "                         event_timestamp  quantity currency  \\\n",
       "location                                                      \n",
       "Saint Helena  2024-03-26 22:05:58.863661         2      NGN   \n",
       "Saint Helena  2024-03-26 22:05:58.863661         4      NGN   \n",
       "Saint Helena  2024-03-26 22:05:58.863661         5      NGN   \n",
       "\n",
       "                          checked_out_at   status  \n",
       "location                                           \n",
       "Saint Helena  2024-03-30 04:19:10.406794  success  \n",
       "Saint Helena  2024-03-30 04:19:10.406794  success  \n",
       "Saint Helena  2024-03-30 04:19:10.406794  success  "
      ]
     },
     "execution_count": 4,
     "metadata": {},
     "output_type": "execute_result"
    }
   ],
   "source": [
    "sales.head(3)"
   ]
  },
  {
   "cell_type": "code",
   "execution_count": 6,
   "id": "1789f613-0ff5-4341-ac28-d81409d6f344",
   "metadata": {
    "id": "1789f613-0ff5-4341-ac28-d81409d6f344",
    "outputId": "db81e6a3-285e-405e-cce1-e32d28d540ec"
   },
   "outputs": [
    {
     "data": {
      "text/plain": [
       "Index(['Saint Helena', 'Saint Helena', 'Saint Helena', 'Saint Helena',\n",
       "       'Saint Helena', 'Saint Helena', 'Saint Helena', 'Saint Helena',\n",
       "       'Saint Helena', 'Saint Helena',\n",
       "       ...\n",
       "       'Christmas Island', 'Christmas Island', 'Christmas Island',\n",
       "       'Christmas Island', 'Christmas Island', 'Christmas Island',\n",
       "       'Christmas Island', 'Christmas Island', 'Christmas Island',\n",
       "       'Christmas Island'],\n",
       "      dtype='object', name='location', length=578320)"
      ]
     },
     "execution_count": 6,
     "metadata": {},
     "output_type": "execute_result"
    }
   ],
   "source": [
    "sales.index"
   ]
  },
  {
   "cell_type": "code",
   "execution_count": 7,
   "id": "0e515234-9848-460e-9f4e-496fb75e8933",
   "metadata": {
    "id": "0e515234-9848-460e-9f4e-496fb75e8933",
    "outputId": "7d07b5ef-141d-45fa-fc1c-31625930be98"
   },
   "outputs": [
    {
     "data": {
      "text/plain": [
       "Index(['Afghanistan', 'Albania', 'Algeria', 'American Samoa', 'Andorra',\n",
       "       'Angola', 'Anguilla', 'Antarctica (the territory South of 60 deg S)',\n",
       "       'Antigua and Barbuda', 'Argentina',\n",
       "       ...\n",
       "       'Uruguay', 'Uzbekistan', 'Vanuatu', 'Venezuela', 'Vietnam',\n",
       "       'Wallis and Futuna', 'Western Sahara', 'Yemen', 'Zambia', 'Zimbabwe'],\n",
       "      dtype='object', name='location', length=243)"
      ]
     },
     "execution_count": 7,
     "metadata": {},
     "output_type": "execute_result"
    }
   ],
   "source": [
    "# list af all the locations or countries where all the customers purchase from...\n",
    "unique_index = sales.index.unique().sort_values()\n",
    "unique_index"
   ]
  },
  {
   "cell_type": "code",
   "execution_count": 8,
   "id": "9632e222-7343-4a57-aef4-6e7db213de32",
   "metadata": {
    "id": "9632e222-7343-4a57-aef4-6e7db213de32",
    "outputId": "43d5359e-432f-48bd-ff48-bccac7bf9340"
   },
   "outputs": [
    {
     "data": {
      "text/plain": [
       "location\n",
       "Korea            6997\n",
       "Argentina        4507\n",
       "Mauritius        4414\n",
       "Jersey           4130\n",
       "Panama           3936\n",
       "French Guiana    3851\n",
       "Guernsey         3804\n",
       "Guatemala        3731\n",
       "Albania          3721\n",
       "Philippines      3675\n",
       "Name: count, dtype: int64"
      ]
     },
     "execution_count": 8,
     "metadata": {},
     "output_type": "execute_result"
    }
   ],
   "source": [
    "# top 10 countries or locations where most patronage are recieved...\n",
    "sales.index.value_counts().head(10)"
   ]
  },
  {
   "cell_type": "code",
   "execution_count": null,
   "id": "1dea6976-74cf-4ba4-9452-4012f0d7e4df",
   "metadata": {
    "id": "1dea6976-74cf-4ba4-9452-4012f0d7e4df",
    "outputId": "93393ce9-693b-4109-f8fa-7f282e72aeab"
   },
   "outputs": [],
   "source": [
    "sales.index.value_counts().head(10).plot(kind = 'bar')"
   ]
  },
  {
   "cell_type": "code",
   "execution_count": null,
   "id": "6280ca9a-b92b-4e70-94b1-a0b5e1bab33a",
   "metadata": {
    "id": "6280ca9a-b92b-4e70-94b1-a0b5e1bab33a",
    "outputId": "324c4ba9-0c52-44aa-8182-200a33504948"
   },
   "outputs": [],
   "source": [
    "# top 10 countries where most patronage are recieved....\n",
    "sales.index.value_counts().head(100).plot(kind = 'bar',figsize = (20,20))"
   ]
  },
  {
   "cell_type": "code",
   "execution_count": null,
   "id": "35a394fb-49fa-4844-97a8-315261e38b7f",
   "metadata": {
    "id": "35a394fb-49fa-4844-97a8-315261e38b7f",
    "outputId": "5db25336-15a7-433d-ebf6-be3a20aa0d93"
   },
   "outputs": [],
   "source": [
    "unique_index.nunique()"
   ]
  },
  {
   "cell_type": "code",
   "execution_count": null,
   "id": "ae3c4f5a-3044-42e0-a321-1276e953e190",
   "metadata": {
    "id": "ae3c4f5a-3044-42e0-a321-1276e953e190",
    "outputId": "2cc4ccb3-3d9b-4ac7-b045-277ec1eb44c8"
   },
   "outputs": [],
   "source": [
    "sales.columns"
   ]
  },
  {
   "cell_type": "code",
   "execution_count": null,
   "id": "afebd4f0-147f-43a0-8fa9-6a60e9c4b166",
   "metadata": {
    "id": "afebd4f0-147f-43a0-8fa9-6a60e9c4b166",
    "outputId": "18e86b2b-0423-41a9-dc63-dbfb57a1a947"
   },
   "outputs": [],
   "source": [
    "len(sales.columns)"
   ]
  },
  {
   "cell_type": "code",
   "execution_count": null,
   "id": "d538338c-6fdc-4062-b976-84fdfec4555c",
   "metadata": {
    "id": "d538338c-6fdc-4062-b976-84fdfec4555c",
    "outputId": "18173b31-e318-49f1-d455-102c17a5a695"
   },
   "outputs": [],
   "source": [
    "# sales.loc['56d7d069-2f58-4b35-9559-9405c45cae33'] #this will throw error showing that it only works with index...\n",
    "sales.loc[\"Brazil\"] # I selected any of the unique values in the index..."
   ]
  },
  {
   "cell_type": "code",
   "execution_count": null,
   "id": "4d0941fa-ab04-4a02-9dcb-27b99115f210",
   "metadata": {
    "id": "4d0941fa-ab04-4a02-9dcb-27b99115f210",
    "outputId": "77aa921c-1e60-4d6e-d6c8-51df997c07b7"
   },
   "outputs": [],
   "source": [
    "sales.iloc[0:3]"
   ]
  },
  {
   "cell_type": "code",
   "execution_count": null,
   "id": "5b296814-88e4-43c9-aec7-197bc9593dd4",
   "metadata": {
    "id": "5b296814-88e4-43c9-aec7-197bc9593dd4"
   },
   "outputs": [],
   "source": [
    "# Filtering/ Masking...\n",
    "# Using Booleans \"AND\" & \"OR\"\n",
    "# AND in pandas is written as \"&\"\n",
    "# OR in pandas is written as \"|\"\n",
    "#-------------------------------------------------#\n"
   ]
  },
  {
   "cell_type": "code",
   "execution_count": null,
   "id": "4296013b-0892-4d48-a1e6-03e58f11f6cd",
   "metadata": {
    "id": "4296013b-0892-4d48-a1e6-03e58f11f6cd",
    "outputId": "20fedc8e-13d0-4fd6-a721-684cefb33dbf"
   },
   "outputs": [],
   "source": [
    "# Filtering\n",
    "sales[sales[\"customer_id\"] == \"56d7d069-2f58-4b35-9559-9405c45cae33\"]"
   ]
  },
  {
   "cell_type": "code",
   "execution_count": null,
   "id": "7e6734fe-49bf-4f1f-8122-f7eb5d12429e",
   "metadata": {
    "id": "7e6734fe-49bf-4f1f-8122-f7eb5d12429e",
    "outputId": "d9c989b9-9b65-4137-f994-182835c65fb7"
   },
   "outputs": [],
   "source": [
    "# Total nmunbers of customers\n",
    "sales[\"customer_id\"].nunique()"
   ]
  },
  {
   "cell_type": "code",
   "execution_count": null,
   "id": "02f6aa76-7999-4b89-a9fe-8abceb8f7e86",
   "metadata": {
    "id": "02f6aa76-7999-4b89-a9fe-8abceb8f7e86",
    "outputId": "55fa7e6b-59d9-420c-9432-44ee5248f987"
   },
   "outputs": [],
   "source": [
    "# Top 20 custommers with the highest purchases....\n",
    "sales[\"customer_id\"].value_counts().sort_values(ascending = False).head(20).plot(kind=\"bar\")"
   ]
  },
  {
   "cell_type": "code",
   "execution_count": null,
   "id": "ba8c26cd-866a-475a-944b-ea4b8a5519ac",
   "metadata": {
    "id": "ba8c26cd-866a-475a-944b-ea4b8a5519ac"
   },
   "outputs": [],
   "source": [
    "# lets pick one of these customers and see their behaviour\n",
    "mask = (sales[\"customer_id\"] == \"ebcb2343-be1b-421e-83eb-6f79a321d999\")"
   ]
  },
  {
   "cell_type": "code",
   "execution_count": null,
   "id": "66ae2f74-6d9a-47e7-bdcc-769c2bab8d2b",
   "metadata": {
    "id": "66ae2f74-6d9a-47e7-bdcc-769c2bab8d2b",
    "outputId": "1e641252-8b20-4057-e7f9-da0b82a9edda"
   },
   "outputs": [],
   "source": [
    "sales[mask].head(1)"
   ]
  },
  {
   "cell_type": "code",
   "execution_count": null,
   "id": "d354854e-fc13-41eb-ac32-4f7fa8a32596",
   "metadata": {
    "id": "d354854e-fc13-41eb-ac32-4f7fa8a32596",
    "outputId": "bc7cf9cc-08ca-4a0a-cbf6-a9025eed027e"
   },
   "outputs": [],
   "source": [
    "sales.loc[mask].head(1)"
   ]
  },
  {
   "cell_type": "code",
   "execution_count": null,
   "id": "ca92640a-6efe-4314-aafa-3ca3f2986f2d",
   "metadata": {
    "id": "ca92640a-6efe-4314-aafa-3ca3f2986f2d",
    "outputId": "6a1c2582-692b-4317-d8ed-ea3e3014771e"
   },
   "outputs": [],
   "source": [
    "sales.loc[mask,\"customer_id\":\"currency\"].head(2) # give me mask , but from colunm customer_id to currency"
   ]
  },
  {
   "cell_type": "code",
   "execution_count": null,
   "id": "9a016caf-bc54-4c71-bdb1-86992403a49c",
   "metadata": {
    "id": "9a016caf-bc54-4c71-bdb1-86992403a49c",
    "outputId": "df9512a3-6cd8-4eed-be7d-4c6f6f503263"
   },
   "outputs": [],
   "source": [
    "sales[\"currency\"].unique()"
   ]
  },
  {
   "cell_type": "code",
   "execution_count": null,
   "id": "b8d55095-ddb6-4bc6-8ae7-df872ad20a18",
   "metadata": {
    "id": "b8d55095-ddb6-4bc6-8ae7-df872ad20a18",
    "outputId": "6ba393ce-f0a5-4e25-bc6a-11c5c6e4d731"
   },
   "outputs": [],
   "source": [
    "currency_and_number_times_used = sales[\"currency\"].value_counts()\n",
    "currency_and_number_times_used"
   ]
  },
  {
   "cell_type": "code",
   "execution_count": null,
   "id": "36bfc787-d3ba-4678-84d5-68a99db2b77f",
   "metadata": {
    "id": "36bfc787-d3ba-4678-84d5-68a99db2b77f",
    "outputId": "f5f44866-2dff-4d27-f2a6-94a0afa4b0db"
   },
   "outputs": [],
   "source": [
    "currency_and_number_times_used.plot(kind =\"bar\" )"
   ]
  },
  {
   "cell_type": "code",
   "execution_count": null,
   "id": "520832ef-af3d-40f6-b90a-bcdcfe4956a0",
   "metadata": {
    "id": "520832ef-af3d-40f6-b90a-bcdcfe4956a0"
   },
   "outputs": [],
   "source": [
    "## Applying multiple filters....\n",
    "# here we would be using the \"&\" and \"|\" operators...\n",
    "# We have picked out the this particular customer... and the successful  transaction\n",
    "mask = (sales[\"customer_id\"] == \"ebcb2343-be1b-421e-83eb-6f79a321d999\")"
   ]
  },
  {
   "cell_type": "code",
   "execution_count": null,
   "id": "26d2a5e8-4467-46a2-ab88-78e03e0b59de",
   "metadata": {
    "id": "26d2a5e8-4467-46a2-ab88-78e03e0b59de"
   },
   "outputs": [],
   "source": [
    "mask2 = (sales[\"customer_id\"] == \"ebcb2343-be1b-421e-83eb-6f79a321d999\") & (sales[\"status\"] == \"success\")\n"
   ]
  },
  {
   "cell_type": "code",
   "execution_count": null,
   "id": "d207c0a6-a5bc-4789-8e92-406d874d8606",
   "metadata": {
    "id": "d207c0a6-a5bc-4789-8e92-406d874d8606",
    "outputId": "b5147b03-fbc5-47e0-cb6f-38569245f20b"
   },
   "outputs": [],
   "source": [
    "sales.loc[mask2]"
   ]
  },
  {
   "cell_type": "code",
   "execution_count": null,
   "id": "a8ceebc8-33dd-490d-abc8-7618b086e59c",
   "metadata": {
    "id": "a8ceebc8-33dd-490d-abc8-7618b086e59c"
   },
   "outputs": [],
   "source": [
    "# lets see the numbers of sucessful transaction carried out by this customer\n",
    "this_customer = sales.loc[mask]"
   ]
  },
  {
   "cell_type": "code",
   "execution_count": null,
   "id": "618a8400-a018-46a7-9e2d-0f3ec5c56996",
   "metadata": {
    "id": "618a8400-a018-46a7-9e2d-0f3ec5c56996",
    "outputId": "94b1ff8e-b88e-48f2-d105-3f27f45e93d4"
   },
   "outputs": [],
   "source": [
    "this_customer[\"status\"].value_counts()\n",
    "# The output showsthat the particular customer has not experienced failed transaction  at all."
   ]
  },
  {
   "cell_type": "code",
   "execution_count": null,
   "id": "77ce1d64-9be2-40d5-9263-f5aff6662946",
   "metadata": {
    "id": "77ce1d64-9be2-40d5-9263-f5aff6662946"
   },
   "outputs": [],
   "source": [
    "# lets filter out the transaction...\n",
    "mask3 = (sales[\"status\"] ==\"failed\")\n"
   ]
  },
  {
   "cell_type": "code",
   "execution_count": null,
   "id": "981a030a-0e0b-4ce2-a51a-335a87fe1249",
   "metadata": {
    "id": "981a030a-0e0b-4ce2-a51a-335a87fe1249",
    "outputId": "24b8fbb1-b549-4fd6-8f09-fb1c6908efdb"
   },
   "outputs": [],
   "source": [
    "# lets check out the failed transactions...\n",
    "sales.loc[mask3]"
   ]
  },
  {
   "cell_type": "code",
   "execution_count": null,
   "id": "8a9e893a-71a1-4559-b452-07e3ca21d1cb",
   "metadata": {
    "id": "8a9e893a-71a1-4559-b452-07e3ca21d1cb"
   },
   "outputs": [],
   "source": [
    "# LEts find out the numbers of failed transaction as compared to others...\n",
    "transaction_status = sales[\"status\"].value_counts()"
   ]
  },
  {
   "cell_type": "code",
   "execution_count": null,
   "id": "e8ca2648-4d66-4a58-914b-f8a161270bef",
   "metadata": {
    "id": "e8ca2648-4d66-4a58-914b-f8a161270bef",
    "outputId": "27a52d77-b267-4103-82ff-6ddc3ccf7db6"
   },
   "outputs": [],
   "source": [
    "transaction_status.plot(kind = \"bar\")"
   ]
  },
  {
   "cell_type": "code",
   "execution_count": null,
   "id": "c03a1cd6-3190-47d8-afa5-9c37255d764c",
   "metadata": {
    "id": "c03a1cd6-3190-47d8-afa5-9c37255d764c"
   },
   "outputs": [],
   "source": [
    "# Does the currency have effect on the status of currency...?"
   ]
  },
  {
   "cell_type": "code",
   "execution_count": null,
   "id": "0cca5c9f-4284-4d25-ba32-0c3381cf11ef",
   "metadata": {
    "id": "0cca5c9f-4284-4d25-ba32-0c3381cf11ef"
   },
   "outputs": [],
   "source": [
    "currency_by_status = sales.groupby(\"status\")[\"currency\"]\n",
    "#get_group()"
   ]
  },
  {
   "cell_type": "code",
   "execution_count": null,
   "id": "4763bbc8-c124-4690-b49a-c6ea7fb45323",
   "metadata": {
    "id": "4763bbc8-c124-4690-b49a-c6ea7fb45323",
    "outputId": "fd39ecc7-d437-4716-84a1-593522b87bcc"
   },
   "outputs": [],
   "source": [
    "# sales.loc[index=='Korea']\n",
    "# Since sales is index, the above code will not work for subsetting Korea\n",
    "Korea = sales.loc[\"Korea\"]\n",
    "Korea.head(2)"
   ]
  },
  {
   "cell_type": "code",
   "execution_count": null,
   "id": "2d9c203a-8f23-49c2-bb5f-1642108fc215",
   "metadata": {
    "id": "2d9c203a-8f23-49c2-bb5f-1642108fc215",
    "outputId": "159e373d-59db-4e72-f7a4-7f054af1861c"
   },
   "outputs": [],
   "source": [
    "Korea.info()"
   ]
  },
  {
   "cell_type": "code",
   "execution_count": null,
   "id": "c9fce8d6-18fe-4233-ae43-e0f1d00cea3b",
   "metadata": {
    "id": "c9fce8d6-18fe-4233-ae43-e0f1d00cea3b",
    "outputId": "be1f7341-0022-4887-c902-c29651781ddc"
   },
   "outputs": [],
   "source": [
    "Korea.shape"
   ]
  },
  {
   "cell_type": "code",
   "execution_count": null,
   "id": "81081457-0b99-4743-9009-bfeb24ae25df",
   "metadata": {
    "id": "81081457-0b99-4743-9009-bfeb24ae25df",
    "outputId": "2bd4a8b1-bd0b-442f-bb53-1b16468c80f3"
   },
   "outputs": [],
   "source": [
    "Korea.shape[0]"
   ]
  },
  {
   "cell_type": "code",
   "execution_count": null,
   "id": "2b5ac5e4-ed98-406e-9fae-17fc441b7bc3",
   "metadata": {
    "id": "2b5ac5e4-ed98-406e-9fae-17fc441b7bc3"
   },
   "outputs": [],
   "source": [
    "# Lets find out the status of transaction in Korea\n",
    "\n",
    "failed_transc = Korea[Korea[\"status\"] == \"failed\"]\n",
    "successful_transc = Korea[Korea[\"status\"] == \"success\"]\n",
    "cancelled_transc = Korea[Korea[\"status\"] == \"cancelled\"]\n"
   ]
  },
  {
   "cell_type": "code",
   "execution_count": null,
   "id": "9855a591-e225-4458-a1c3-ae26e059efc6",
   "metadata": {
    "id": "9855a591-e225-4458-a1c3-ae26e059efc6",
    "outputId": "9cbb813d-427d-4ed9-bf50-9ad18357e684"
   },
   "outputs": [],
   "source": [
    "failed_transc.head(1)"
   ]
  },
  {
   "cell_type": "code",
   "execution_count": null,
   "id": "00458a34-6b11-4af3-9e69-7d02366cbaf8",
   "metadata": {
    "id": "00458a34-6b11-4af3-9e69-7d02366cbaf8",
    "outputId": "cca99157-0ecd-47cd-b77f-08450c8e9e90"
   },
   "outputs": [],
   "source": [
    "# lets check the total numbers of failed transactions\n",
    "failed_transc.shape[0]"
   ]
  },
  {
   "cell_type": "code",
   "execution_count": null,
   "id": "72625a9f-7c3b-4a5d-987f-84576ad6db7d",
   "metadata": {
    "id": "72625a9f-7c3b-4a5d-987f-84576ad6db7d",
    "outputId": "1c82904c-241e-451b-b3dc-265541ec8890"
   },
   "outputs": [],
   "source": [
    "# out of this 1,982 customers that experiences failed transaction lets see the numbers of unique customers that there...\n",
    "failed_transc.customer_id.nunique()"
   ]
  },
  {
   "cell_type": "code",
   "execution_count": null,
   "id": "0cf5a1d4-046a-4ad1-8762-8508185f02b2",
   "metadata": {
    "id": "0cf5a1d4-046a-4ad1-8762-8508185f02b2",
    "outputId": "57611928-c4bb-4ea2-deb5-641479f2458b"
   },
   "outputs": [],
   "source": [
    "# we have 11 customers who have experienced failed transactions of 1,982\n",
    "# LEts see who this customers are...\n",
    "failed_transc.customer_id.unique()"
   ]
  },
  {
   "cell_type": "code",
   "execution_count": null,
   "id": "9dad8466-4224-41f2-803c-4c06b7c6e313",
   "metadata": {
    "id": "9dad8466-4224-41f2-803c-4c06b7c6e313"
   },
   "outputs": [],
   "source": [
    "# I would pick each of the customers and check if I can find what really happened...\n",
    "cust_34d3c5e1= failed_transc[failed_transc[\"customer_id\"] == \"34d3c5e1-7e40-40c9-84c3-7d50edfb7eaf\"]"
   ]
  },
  {
   "cell_type": "code",
   "execution_count": null,
   "id": "585f7da1-16a0-4fc0-a41f-d6a967b942bc",
   "metadata": {
    "id": "585f7da1-16a0-4fc0-a41f-d6a967b942bc",
    "outputId": "8fffcd10-7800-4fe4-ea81-74cd429c2a4b"
   },
   "outputs": [],
   "source": [
    "# Here we are looking at an individual customer...\n",
    "cust_34d3c5e1.head(1)"
   ]
  },
  {
   "cell_type": "code",
   "execution_count": null,
   "id": "fd37dcb8-4894-4dcc-9dfb-4021df69ce77",
   "metadata": {
    "id": "fd37dcb8-4894-4dcc-9dfb-4021df69ce77",
    "outputId": "dff1f472-0ea5-413e-e271-4a399c3edf9f"
   },
   "outputs": [],
   "source": [
    "# How many transactions did this customer made that ended up failing\n",
    "cust_34d3c5e1.shape[0]"
   ]
  },
  {
   "cell_type": "code",
   "execution_count": null,
   "id": "fbe67636-12f2-417e-8b95-f11151571f8a",
   "metadata": {
    "id": "fbe67636-12f2-417e-8b95-f11151571f8a"
   },
   "outputs": [],
   "source": [
    "# This particular customer attempted 198 transactions that failed"
   ]
  },
  {
   "cell_type": "code",
   "execution_count": null,
   "id": "b708a7e6-59b8-48f0-a22a-a182e3d41852",
   "metadata": {
    "id": "b708a7e6-59b8-48f0-a22a-a182e3d41852",
    "outputId": "1b006542-e47d-4774-ad06-aae710315b99"
   },
   "outputs": [],
   "source": [
    "# What currency was he using to carry out his transactions?\n",
    "cust_34d3c5e1.currency.unique()"
   ]
  },
  {
   "cell_type": "code",
   "execution_count": null,
   "id": "d9fd8c93-29bb-450d-a124-0ba2c3430c01",
   "metadata": {
    "id": "d9fd8c93-29bb-450d-a124-0ba2c3430c01",
    "outputId": "3c2e799d-86cc-4280-9a84-c7d34f3adbbd"
   },
   "outputs": [],
   "source": [
    "# This customer uses US Dollars($) for transactions...could payment method have associated to the challenge?\n",
    "# I might still come back to this, to comparw if this customer has any successful transaction...\n",
    "successful_transc[successful_transc[\"customer_id\"] == \"34d3c5e1-7e40-40c9-84c3-7d50edfb7eaf\"]"
   ]
  },
  {
   "cell_type": "code",
   "execution_count": null,
   "id": "4356d82a-4b1e-4603-83fd-24aa511ba913",
   "metadata": {
    "id": "4356d82a-4b1e-4603-83fd-24aa511ba913",
    "outputId": "923945cb-6e69-47c5-9640-c4045d237097"
   },
   "outputs": [],
   "source": [
    "# Unfortunately, this customer never had any \"Successful\" transation..>\n",
    "# LEts dig further and check the event time stamp and see if we can discover anything there..\n",
    "cust_34d3c5e1[\"event_timestamp\"].value_counts()"
   ]
  },
  {
   "cell_type": "code",
   "execution_count": null,
   "id": "b5e33f0e-2ddc-4ac4-ab47-b56e437f0cf1",
   "metadata": {
    "id": "b5e33f0e-2ddc-4ac4-ab47-b56e437f0cf1",
    "outputId": "25e8a472-5256-4b04-81b0-250124ede81c"
   },
   "outputs": [],
   "source": [
    "# What could have happened, all of the above transactions occured within 1 minute, can it be attributed to system error or a kind of fraud?\n",
    "\n",
    "# LEts try and mop up more evidences as to gain understanding of what happened\n",
    "cust_34d3c5e1[\"quantity\"].sort_values(ascending = False)"
   ]
  },
  {
   "cell_type": "code",
   "execution_count": null,
   "id": "282c550c-cd59-435e-ac5a-fb46019a45fc",
   "metadata": {
    "id": "282c550c-cd59-435e-ac5a-fb46019a45fc",
    "outputId": "37c41d9f-0c71-443a-e66b-3d80e1fb07d0"
   },
   "outputs": [],
   "source": [
    "cust_34d3c5e1[\"order_id\"].value_counts()\n",
    "# the same order_id for all of the transactions"
   ]
  },
  {
   "cell_type": "code",
   "execution_count": null,
   "id": "5137aa4b-f7af-47b5-87c0-c26076f889bc",
   "metadata": {
    "id": "5137aa4b-f7af-47b5-87c0-c26076f889bc",
    "outputId": "dce4e54f-de77-4541-868d-eed8e4975d60"
   },
   "outputs": [],
   "source": [
    "cust_34d3c5e1[\"item_id\"].unique()\n",
    "#This particular customer tried ordering for 9 different products almostat the same time..\n"
   ]
  },
  {
   "cell_type": "code",
   "execution_count": null,
   "id": "db53baf7-4b9a-4675-9ebe-00071f517adc",
   "metadata": {
    "id": "db53baf7-4b9a-4675-9ebe-00071f517adc",
    "outputId": "05ce4049-47cf-4c17-a99b-780a82e17266"
   },
   "outputs": [],
   "source": [
    "cust_34d3c5e1[\"item_id\"].value_counts()\n",
    "# Each product was ordered for 22 times..."
   ]
  },
  {
   "cell_type": "code",
   "execution_count": null,
   "id": "66f8ec76-e118-4516-a833-f47dd8696165",
   "metadata": {
    "id": "66f8ec76-e118-4516-a833-f47dd8696165",
    "outputId": "01eb818e-41d0-48ea-8005-13b6a3c3b29a"
   },
   "outputs": [],
   "source": [
    "cust_34d3c5e1[\"event_id\"].nunique()\n",
    "# We have 22 events each..."
   ]
  },
  {
   "cell_type": "code",
   "execution_count": null,
   "id": "1c328eda-5d43-470c-ad76-d3fe115283e8",
   "metadata": {
    "id": "1c328eda-5d43-470c-ad76-d3fe115283e8",
    "outputId": "b8c1024f-9ec3-4506-f7f7-e3a9b055bb0c"
   },
   "outputs": [],
   "source": [
    "cust_34d3c5e1[\"event_id\"].value_counts()"
   ]
  },
  {
   "cell_type": "code",
   "execution_count": null,
   "id": "62aada14-2a40-47d9-b22c-a1d5bb6688eb",
   "metadata": {
    "id": "62aada14-2a40-47d9-b22c-a1d5bb6688eb",
    "outputId": "7f0061ee-b89f-4829-91a1-d72dac4bc919"
   },
   "outputs": [],
   "source": [
    "cust_34d3c5e1.duplicated().sum() # this customer do not have any duplicate"
   ]
  },
  {
   "cell_type": "markdown",
   "id": "ed4b1fad-01c3-4d50-8b59-ff49e88ac75e",
   "metadata": {
    "id": "ed4b1fad-01c3-4d50-8b59-ff49e88ac75e"
   },
   "source": [
    "#### Insights:\n",
    "From my discovery in this dataset... I could say that the transactions from customer \"cust_34d3c5e1\" may not have been carried out by a human because of the consistency of the patterns... the failed transactions may be carried out by a bot or it could be a system error.\n",
    "#### Recommendation:\n",
    "The business and innovation team should look at the case more intensely as I would go on and analyse all other failed transactions to uncover more insights...\n",
    "Further more, a compresensive report would be written to highlight the findings of this analysis."
   ]
  },
  {
   "cell_type": "code",
   "execution_count": null,
   "id": "5f83a2bb-c57a-4689-9e21-18f62ff235cf",
   "metadata": {
    "id": "5f83a2bb-c57a-4689-9e21-18f62ff235cf",
    "outputId": "7cb913df-8fe2-4486-bd18-3a28020615ad"
   },
   "outputs": [],
   "source": [
    "# Since Korea has the highest level of purchase,  dig a little bit deeper..\n",
    "Korea.currency.unique()"
   ]
  },
  {
   "cell_type": "code",
   "execution_count": null,
   "id": "8aeb553c-eb13-48f9-987f-9f96d8fd7d7f",
   "metadata": {
    "id": "8aeb553c-eb13-48f9-987f-9f96d8fd7d7f"
   },
   "outputs": [],
   "source": []
  },
  {
   "cell_type": "code",
   "execution_count": null,
   "id": "adad91f8-14c7-4e3a-b2c9-4acd1c543d2c",
   "metadata": {
    "id": "adad91f8-14c7-4e3a-b2c9-4acd1c543d2c",
    "outputId": "06538486-02d0-40ba-c74f-aeeeaab9f873"
   },
   "outputs": [],
   "source": [
    "# People from  Korea spends more of Dollars($) in their purchases compared to the other currencies\n",
    "Korea.currency.value_counts().plot(kind = \"bar\")"
   ]
  },
  {
   "cell_type": "code",
   "execution_count": null,
   "id": "481ac40c-0154-4411-bdef-050a1b64a27c",
   "metadata": {
    "id": "481ac40c-0154-4411-bdef-050a1b64a27c",
    "outputId": "b67238ca-7ef8-41fc-b27d-2124adcfe4b1"
   },
   "outputs": [],
   "source": [
    "# lets see the status of transactions from Korea\n",
    "Korea[\"status\"].unique()"
   ]
  },
  {
   "cell_type": "code",
   "execution_count": null,
   "id": "31964dcc-44ad-49ef-bdf1-623deba5c7a9",
   "metadata": {
    "id": "31964dcc-44ad-49ef-bdf1-623deba5c7a9",
    "outputId": "a770f7dd-1951-47ed-9e34-0b80da6f73fb"
   },
   "outputs": [],
   "source": [
    "Korea.status.value_counts()"
   ]
  },
  {
   "cell_type": "code",
   "execution_count": null,
   "id": "969f28ae-8735-46fb-92fa-2119b98c548a",
   "metadata": {
    "id": "969f28ae-8735-46fb-92fa-2119b98c548a",
    "outputId": "2e90c2b5-e244-43f9-a2ee-dc3e0bf7bc28"
   },
   "outputs": [],
   "source": [
    "Korea.status.value_counts().plot(kind = \"bar\")\n",
    "# there are more of cancelled transaction commpared to successful and failed transactions\n"
   ]
  },
  {
   "cell_type": "code",
   "execution_count": null,
   "id": "ba46bd5b-ca10-481f-9d82-5b7a667f0fa4",
   "metadata": {
    "id": "ba46bd5b-ca10-481f-9d82-5b7a667f0fa4",
    "outputId": "1333e8ff-ac72-4a3d-ff9e-66f34692c8ab"
   },
   "outputs": [],
   "source": [
    "# Lets dig further...\n",
    "Korea.columns"
   ]
  },
  {
   "cell_type": "code",
   "execution_count": null,
   "id": "b11d2239-d33c-444a-a53a-9d1e37bdd6de",
   "metadata": {
    "id": "b11d2239-d33c-444a-a53a-9d1e37bdd6de",
    "outputId": "69f34f4a-6663-4f52-e9ee-c3ec6127754b"
   },
   "outputs": [],
   "source": [
    "# lets see if wecan track customers with failed transactions, successful transactions and failed transaction\n",
    "# then we will find out if there is are factor in the data that might have influenced it.\n",
    "Korea[\"customer_id\"].unique()"
   ]
  },
  {
   "cell_type": "code",
   "execution_count": null,
   "id": "897fd9e1-c1a8-460e-af20-1d299a4a3c2b",
   "metadata": {
    "id": "897fd9e1-c1a8-460e-af20-1d299a4a3c2b",
    "outputId": "e7009419-f334-4d22-e81f-98d18fac43ce"
   },
   "outputs": [],
   "source": [
    "sales[\"device_id\"].nunique()"
   ]
  },
  {
   "cell_type": "code",
   "execution_count": null,
   "id": "e0760abd-ebd3-44c0-94d4-1e10aee95094",
   "metadata": {
    "id": "e0760abd-ebd3-44c0-94d4-1e10aee95094",
    "outputId": "31bc997f-c433-4b3b-cf58-e160c241a42b"
   },
   "outputs": [],
   "source": [
    "sales[\"item_id\"].value_counts()"
   ]
  },
  {
   "cell_type": "code",
   "execution_count": null,
   "id": "41a74fcc-7838-4396-ae2a-abf0ea21f99c",
   "metadata": {
    "id": "41a74fcc-7838-4396-ae2a-abf0ea21f99c",
    "outputId": "9edc35fa-6193-4952-e7b5-0a2cd87a9b7c"
   },
   "outputs": [],
   "source": [
    "sales.item_id.nunique()"
   ]
  },
  {
   "cell_type": "code",
   "execution_count": null,
   "id": "6982f656-f484-44a0-a9c2-d532411fafcd",
   "metadata": {
    "id": "6982f656-f484-44a0-a9c2-d532411fafcd",
    "outputId": "b6466afc-d9f9-45e4-d7a0-821292bdc3a2"
   },
   "outputs": [],
   "source": [
    "sales.line_item_id.unique()"
   ]
  },
  {
   "cell_type": "code",
   "execution_count": null,
   "id": "a0c7a2e6-b797-47f5-aedf-84d8aae9d524",
   "metadata": {
    "id": "a0c7a2e6-b797-47f5-aedf-84d8aae9d524",
    "outputId": "baae1557-c3a0-4032-d893-e79b704ad0d2"
   },
   "outputs": [],
   "source": [
    "sales.line_item_id.nunique()"
   ]
  },
  {
   "cell_type": "code",
   "execution_count": null,
   "id": "35858354-7c59-4205-8c85-2f5e69952e26",
   "metadata": {
    "id": "35858354-7c59-4205-8c85-2f5e69952e26"
   },
   "outputs": [],
   "source": [
    "# using \"str.contains()\"\n",
    "mask4 = (sales[\"status\"].str.contains(\"failed\"))"
   ]
  },
  {
   "cell_type": "code",
   "execution_count": null,
   "id": "2bd65561-a132-48d0-9e98-c04d62bea5fe",
   "metadata": {
    "id": "2bd65561-a132-48d0-9e98-c04d62bea5fe",
    "outputId": "3baf86a2-e6f0-487b-c933-2a72db0f408b"
   },
   "outputs": [],
   "source": [
    "sales.loc[mask4].head()"
   ]
  },
  {
   "cell_type": "code",
   "execution_count": null,
   "id": "a327f22d-ec1a-4821-a3b4-ec4356cd556d",
   "metadata": {
    "id": "a327f22d-ec1a-4821-a3b4-ec4356cd556d",
    "outputId": "1038642b-f4dc-41ad-bc77-c7a609488eb6"
   },
   "outputs": [],
   "source": [
    "# this one filtered out all of the ones with \"failed\" using \"~\"\n",
    "sales.loc[~mask4].head(10)"
   ]
  },
  {
   "cell_type": "markdown",
   "id": "8eb14799-e5f2-4557-9aa5-74f274bb5cf0",
   "metadata": {
    "id": "8eb14799-e5f2-4557-9aa5-74f274bb5cf0"
   },
   "source": [
    "### I will be working on how to update columns and row values..."
   ]
  },
  {
   "cell_type": "code",
   "execution_count": null,
   "id": "b4ebbeca-5de4-4e7e-8143-42e48601ced5",
   "metadata": {
    "id": "b4ebbeca-5de4-4e7e-8143-42e48601ced5",
    "outputId": "eae35204-9b38-47b2-e997-cdb86be7fa25"
   },
   "outputs": [],
   "source": [
    "# Renaming and Deleting...\n",
    "sales.head(2)"
   ]
  },
  {
   "cell_type": "code",
   "execution_count": null,
   "id": "372021ca-0867-45d9-8ce9-46d111a20d98",
   "metadata": {
    "id": "372021ca-0867-45d9-8ce9-46d111a20d98",
    "outputId": "db22f3e3-2303-4f73-ee9d-d4cb4334844e"
   },
   "outputs": [],
   "source": [
    "sales.info()"
   ]
  },
  {
   "cell_type": "code",
   "execution_count": null,
   "id": "859d1550-ac18-42ed-bf43-749321e90481",
   "metadata": {
    "id": "859d1550-ac18-42ed-bf43-749321e90481",
    "outputId": "fb4179c2-72ff-48e4-e33c-c0e40ab7ccc6"
   },
   "outputs": [],
   "source": [
    "sales.columns"
   ]
  },
  {
   "cell_type": "code",
   "execution_count": null,
   "id": "041dc7db-1bf1-4b49-908c-ae957146dddb",
   "metadata": {
    "id": "041dc7db-1bf1-4b49-908c-ae957146dddb"
   },
   "outputs": [],
   "source": [
    "new_copy = sales.copy()"
   ]
  },
  {
   "cell_type": "code",
   "execution_count": null,
   "id": "d56d1482-b51c-4889-87c4-68b7cd95da70",
   "metadata": {
    "id": "d56d1482-b51c-4889-87c4-68b7cd95da70",
    "outputId": "108082d4-808a-42fa-dc59-8c20b4577e94"
   },
   "outputs": [],
   "source": [
    "new_copy.head()"
   ]
  },
  {
   "cell_type": "code",
   "execution_count": null,
   "id": "fa116da4-2205-4c85-b136-f170e48b3e62",
   "metadata": {
    "id": "fa116da4-2205-4c85-b136-f170e48b3e62"
   },
   "outputs": [],
   "source": [
    "new_copy.rename(columns = {\"customer_id\":\"customer_ID\"}, inplace = True)"
   ]
  },
  {
   "cell_type": "code",
   "execution_count": null,
   "id": "49e6528c-e1e4-4fc7-9f49-47c8e5dbfe64",
   "metadata": {
    "id": "49e6528c-e1e4-4fc7-9f49-47c8e5dbfe64",
    "outputId": "7fbd920a-72ea-45bc-902e-015f551f3e08"
   },
   "outputs": [],
   "source": [
    "new_copy.columns"
   ]
  },
  {
   "cell_type": "code",
   "execution_count": null,
   "id": "4f76503b-0c23-4873-b92a-03879bd5dc87",
   "metadata": {
    "id": "4f76503b-0c23-4873-b92a-03879bd5dc87"
   },
   "outputs": [],
   "source": [
    "new_copy.rename(columns = {\"device_id\":\"device_ID\"}, inplace = True)"
   ]
  },
  {
   "cell_type": "code",
   "execution_count": null,
   "id": "c31f2f9f-cb8d-4040-bfb1-8d09661db6cb",
   "metadata": {
    "id": "c31f2f9f-cb8d-4040-bfb1-8d09661db6cb",
    "outputId": "593b002e-9af6-483d-be93-02e90bc29e23"
   },
   "outputs": [],
   "source": [
    "new_copy.columns"
   ]
  },
  {
   "cell_type": "code",
   "execution_count": null,
   "id": "8435bc4f-1c97-4313-9339-72fb6f46ab51",
   "metadata": {
    "id": "8435bc4f-1c97-4313-9339-72fb6f46ab51"
   },
   "outputs": [],
   "source": [
    "### Edit the column cases from upper to lower cases and vice versal..\n",
    "#\".str.upper\" ... converting the columns names to capital letters\n",
    "new_copy.columns = new_copy.columns.str.upper()"
   ]
  },
  {
   "cell_type": "code",
   "execution_count": null,
   "id": "181e0a72-0976-48f1-ad48-9906bf321784",
   "metadata": {
    "id": "181e0a72-0976-48f1-ad48-9906bf321784",
    "outputId": "678b581d-9ab2-4332-8d95-727bd1159c93"
   },
   "outputs": [],
   "source": [
    "new_copy.head(1)"
   ]
  },
  {
   "cell_type": "code",
   "execution_count": null,
   "id": "ecb3b88e-0160-4bff-b6da-82a88e9fff24",
   "metadata": {
    "id": "ecb3b88e-0160-4bff-b6da-82a88e9fff24"
   },
   "outputs": [],
   "source": [
    "# this will convert all of the columns names into small letters\n",
    "new_copy.columns = new_copy.columns.str.lower()"
   ]
  },
  {
   "cell_type": "code",
   "execution_count": null,
   "id": "e97cc773-0bb1-4ed1-927e-930b14ad53e0",
   "metadata": {
    "id": "e97cc773-0bb1-4ed1-927e-930b14ad53e0",
    "outputId": "c5432528-8318-4496-917b-ce31b4039be9"
   },
   "outputs": [],
   "source": [
    "new_copy.head(1)"
   ]
  },
  {
   "cell_type": "markdown",
   "id": "07b2c86f-b33d-4a62-a950-265e958ebd20",
   "metadata": {
    "id": "07b2c86f-b33d-4a62-a950-265e958ebd20"
   },
   "source": [
    "# Using list comprehension on the columns..."
   ]
  },
  {
   "cell_type": "code",
   "execution_count": null,
   "id": "f4db1433-21d7-4272-ae62-75ee24ed9d72",
   "metadata": {
    "id": "f4db1433-21d7-4272-ae62-75ee24ed9d72"
   },
   "outputs": [],
   "source": [
    "# convert the column names to capital letters...\n",
    "new_copy.columns = [x.upper() for x in new_copy.columns]"
   ]
  },
  {
   "cell_type": "code",
   "execution_count": null,
   "id": "d0832586-69e2-43c0-9da3-51f3c98ca5e0",
   "metadata": {
    "id": "d0832586-69e2-43c0-9da3-51f3c98ca5e0",
    "outputId": "c1fde7fd-1e03-45b4-f95a-a11125020eff"
   },
   "outputs": [],
   "source": [
    "new_copy.columns"
   ]
  },
  {
   "cell_type": "code",
   "execution_count": null,
   "id": "986b074e-9052-4036-808e-428603312130",
   "metadata": {
    "id": "986b074e-9052-4036-808e-428603312130"
   },
   "outputs": [],
   "source": [
    "new_copy.columns = [x.lower() for x in new_copy.columns]"
   ]
  },
  {
   "cell_type": "code",
   "execution_count": null,
   "id": "99fc3fff-8b15-4b5c-abe5-fce5577ca989",
   "metadata": {
    "id": "99fc3fff-8b15-4b5c-abe5-fce5577ca989",
    "outputId": "cc2dcce7-b822-4e49-ba2f-1e9a41caf0fc"
   },
   "outputs": [],
   "source": [
    "new_copy.columns"
   ]
  },
  {
   "cell_type": "code",
   "execution_count": null,
   "id": "058d953a-b570-4445-a794-5c64594593a7",
   "metadata": {
    "id": "058d953a-b570-4445-a794-5c64594593a7"
   },
   "outputs": [],
   "source": [
    "new_copy.columns = new_copy.columns.str.replace(\"_\",\"\")"
   ]
  },
  {
   "cell_type": "code",
   "execution_count": null,
   "id": "7eceb352-7709-4a7a-9ee1-454a8e58da74",
   "metadata": {
    "id": "7eceb352-7709-4a7a-9ee1-454a8e58da74",
    "outputId": "448089ac-54e7-45dc-e1fd-63c552bf4892"
   },
   "outputs": [],
   "source": [
    "new_copy.columns"
   ]
  },
  {
   "cell_type": "code",
   "execution_count": null,
   "id": "4deb6936-360d-4ce8-b8c2-cfcbf6b57cde",
   "metadata": {
    "id": "4deb6936-360d-4ce8-b8c2-cfcbf6b57cde",
    "outputId": "dd6718be-7867-4839-920b-fbc47d419066"
   },
   "outputs": [],
   "source": [
    "new_copy.columns"
   ]
  },
  {
   "cell_type": "code",
   "execution_count": null,
   "id": "d554b038-62aa-489e-8fe3-b011c5e814b5",
   "metadata": {
    "id": "d554b038-62aa-489e-8fe3-b011c5e814b5",
    "outputId": "4ff6da2f-b31a-486d-e652-34b4f8466ba0"
   },
   "outputs": [],
   "source": [
    "new_copy.head(2)"
   ]
  },
  {
   "cell_type": "code",
   "execution_count": null,
   "id": "48f0acc2-e331-4b48-8c71-c74a5e74426f",
   "metadata": {
    "id": "48f0acc2-e331-4b48-8c71-c74a5e74426f"
   },
   "outputs": [],
   "source": [
    "# new_copy.loc[0,\"customerid\"]"
   ]
  },
  {
   "cell_type": "code",
   "execution_count": null,
   "id": "02e30757-b631-45db-a4b0-3431f5301929",
   "metadata": {
    "id": "02e30757-b631-45db-a4b0-3431f5301929",
    "outputId": "1cb3f1d8-3cac-4ad3-99f0-303663d85347"
   },
   "outputs": [],
   "source": [
    "new_copy.apply(len)"
   ]
  },
  {
   "cell_type": "code",
   "execution_count": null,
   "id": "08fe07ee-72dc-4e90-a230-8276f28f2450",
   "metadata": {
    "id": "08fe07ee-72dc-4e90-a230-8276f28f2450",
    "outputId": "1a4f1d0c-af98-48a9-a715-929bf8998e45"
   },
   "outputs": [],
   "source": [
    "new_copy.columns"
   ]
  },
  {
   "cell_type": "code",
   "execution_count": null,
   "id": "91c800fc-76c7-47ac-aeee-704b03a8865e",
   "metadata": {
    "id": "91c800fc-76c7-47ac-aeee-704b03a8865e",
    "outputId": "ac0d0964-d60e-4393-e8fb-4689797fa0b2"
   },
   "outputs": [],
   "source": [
    "new_copy.apply(lambda x: x.min())"
   ]
  },
  {
   "cell_type": "code",
   "execution_count": null,
   "id": "f5836379-ad95-4563-b74e-39be01ab769a",
   "metadata": {
    "id": "f5836379-ad95-4563-b74e-39be01ab769a",
    "outputId": "8130e74c-5048-4edb-e090-d5eaa48810c1"
   },
   "outputs": [],
   "source": [
    "new_copy.apply(lambda x: x.max())"
   ]
  },
  {
   "cell_type": "code",
   "execution_count": null,
   "id": "92666309-f5ed-454f-928c-8aee17a836cd",
   "metadata": {
    "id": "92666309-f5ed-454f-928c-8aee17a836cd"
   },
   "outputs": [],
   "source": [
    "#new_copy.apply(lambda x:x.mean())"
   ]
  },
  {
   "cell_type": "code",
   "execution_count": null,
   "id": "e1e66089-3302-4980-b101-cc7a7c563379",
   "metadata": {
    "id": "e1e66089-3302-4980-b101-cc7a7c563379"
   },
   "outputs": [],
   "source": [
    "#new_copy.apply(lambda x:x.mode())"
   ]
  },
  {
   "cell_type": "code",
   "execution_count": null,
   "id": "c4732254-d70b-47fd-88a1-b513de67921f",
   "metadata": {
    "id": "c4732254-d70b-47fd-88a1-b513de67921f",
    "outputId": "e55defb5-f1ae-4aa2-ef1a-1e58ce3a4b42"
   },
   "outputs": [],
   "source": [
    "new_copy[\"status\"].apply(len)"
   ]
  },
  {
   "cell_type": "code",
   "execution_count": null,
   "id": "534f19ca-155a-49de-bbd4-ecb3dd87a591",
   "metadata": {
    "id": "534f19ca-155a-49de-bbd4-ecb3dd87a591"
   },
   "outputs": [],
   "source": [
    "def capital_case(x):\n",
    "    return x.upper()"
   ]
  },
  {
   "cell_type": "code",
   "execution_count": null,
   "id": "0efea8cf-426f-4714-9720-9df67059ed33",
   "metadata": {
    "id": "0efea8cf-426f-4714-9720-9df67059ed33",
    "outputId": "f439eac7-b3ab-41c2-8ffa-ee92611b10f8"
   },
   "outputs": [],
   "source": [
    "new_copy[\"status\"].apply(capital_case)"
   ]
  },
  {
   "cell_type": "code",
   "execution_count": null,
   "id": "03aeaca1-5762-4a86-8e21-eb705468eed7",
   "metadata": {
    "id": "03aeaca1-5762-4a86-8e21-eb705468eed7",
    "outputId": "1161d487-3231-4408-b1c3-e6a4e42a7a36"
   },
   "outputs": [],
   "source": [
    "new_copy[\"status\"].apply(lambda x : x.lower())"
   ]
  },
  {
   "cell_type": "code",
   "execution_count": null,
   "id": "a86c1631-0f8f-4f96-9703-3cc9fccf7a24",
   "metadata": {
    "id": "a86c1631-0f8f-4f96-9703-3cc9fccf7a24",
    "outputId": "8fcaa603-cbb7-4127-898d-9c188c00a503"
   },
   "outputs": [],
   "source": [
    "new_copy.columns"
   ]
  },
  {
   "cell_type": "code",
   "execution_count": null,
   "id": "bb2d3803-c28b-4669-a1b3-29ac56196e52",
   "metadata": {
    "id": "bb2d3803-c28b-4669-a1b3-29ac56196e52"
   },
   "outputs": [],
   "source": [
    "new_copy2 = new_copy[[\"currency\",\"status\"]]"
   ]
  },
  {
   "cell_type": "code",
   "execution_count": null,
   "id": "1b5d3894-94a1-44aa-9170-efed3d4e10f1",
   "metadata": {
    "id": "1b5d3894-94a1-44aa-9170-efed3d4e10f1",
    "outputId": "708643c3-c551-4da0-d28d-75371777179b"
   },
   "outputs": [],
   "source": [
    "new_copy2.head(2)"
   ]
  },
  {
   "cell_type": "code",
   "execution_count": null,
   "id": "2cf90386-1cb6-4f3d-aa25-31fafe3c3757",
   "metadata": {
    "id": "2cf90386-1cb6-4f3d-aa25-31fafe3c3757",
    "outputId": "22cbe63a-b39e-46f9-b94a-8242c126cead"
   },
   "outputs": [],
   "source": [
    "# new_copy2.applymap(str.upper) # applymap() is a depricated function\n",
    "new_copy2.map(str.upper)"
   ]
  },
  {
   "cell_type": "code",
   "execution_count": null,
   "id": "f38e4ba2-0d28-4df8-b5de-aae0a8e7ef0f",
   "metadata": {
    "id": "f38e4ba2-0d28-4df8-b5de-aae0a8e7ef0f",
    "outputId": "d463373a-61a2-4845-bf5a-dce7e5691f59"
   },
   "outputs": [],
   "source": [
    "# new_copy2.appymap(str.lower) # applymap is a depricated function\n",
    "new_copy2.map(str.lower) # the map function applies to every column of the dataset...\n"
   ]
  },
  {
   "cell_type": "code",
   "execution_count": null,
   "id": "81522f09-b283-430f-9f7e-caca4a5fae02",
   "metadata": {
    "id": "81522f09-b283-430f-9f7e-caca4a5fae02"
   },
   "outputs": [],
   "source": [
    "new_copy3 = new_copy.copy()[-15:-1]"
   ]
  },
  {
   "cell_type": "code",
   "execution_count": null,
   "id": "2be116a2-55e1-48ec-9eb5-c31c62f8dda4",
   "metadata": {
    "id": "2be116a2-55e1-48ec-9eb5-c31c62f8dda4",
    "outputId": "96cea3b7-8037-45ff-9a18-a409a303805c"
   },
   "outputs": [],
   "source": [
    "new_copy3.head(15)"
   ]
  },
  {
   "cell_type": "code",
   "execution_count": null,
   "id": "b50239e1-1263-4b7a-ae58-45b6dcb5e7aa",
   "metadata": {
    "id": "b50239e1-1263-4b7a-ae58-45b6dcb5e7aa",
    "outputId": "d0b0bb38-0224-494b-aec7-b3f133373733"
   },
   "outputs": [],
   "source": [
    "new_copy3.shape"
   ]
  },
  {
   "cell_type": "code",
   "execution_count": null,
   "id": "2c29c5d5-092e-4c1f-b499-71d433257192",
   "metadata": {
    "id": "2c29c5d5-092e-4c1f-b499-71d433257192"
   },
   "outputs": [],
   "source": [
    "new_copy3[\"currency\"] = new_copy3[\"currency\"].map({\"USD\":\"EUR\"})"
   ]
  },
  {
   "cell_type": "code",
   "execution_count": null,
   "id": "6cd75567-9ffa-4564-9b5e-f3b0affe6e13",
   "metadata": {
    "id": "6cd75567-9ffa-4564-9b5e-f3b0affe6e13",
    "outputId": "fc2b2cb8-56ee-48a9-fddd-7a399414dde9"
   },
   "outputs": [],
   "source": [
    "new_copy3[\"currency\"]"
   ]
  },
  {
   "cell_type": "code",
   "execution_count": null,
   "id": "509dfd7c-298a-4b0c-92c6-8bdcc7159bc0",
   "metadata": {
    "id": "509dfd7c-298a-4b0c-92c6-8bdcc7159bc0",
    "outputId": "94214ddf-f87b-4393-8e67-8e0eec3f3b03"
   },
   "outputs": [],
   "source": [
    "new_copy3"
   ]
  },
  {
   "cell_type": "code",
   "execution_count": null,
   "id": "bff7ad29-fc4a-41e6-a085-7d9bcd0eb798",
   "metadata": {
    "id": "bff7ad29-fc4a-41e6-a085-7d9bcd0eb798"
   },
   "outputs": [],
   "source": [
    "new_copy3[\"currency\"] = new_copy3[\"currency\"].replace({\"EUR\":\"USD\"})\n"
   ]
  },
  {
   "cell_type": "code",
   "execution_count": null,
   "id": "25b41b2a-52db-4c0e-87d7-ebb6d25dbcde",
   "metadata": {
    "id": "25b41b2a-52db-4c0e-87d7-ebb6d25dbcde",
    "outputId": "55aa1aeb-c80a-4d48-c34a-180cd3f9179e"
   },
   "outputs": [],
   "source": [
    "new_copy3[\"currency\"]"
   ]
  },
  {
   "cell_type": "code",
   "execution_count": null,
   "id": "3ba2820a-4d57-4f12-a29a-d3085ad9ab33",
   "metadata": {
    "id": "3ba2820a-4d57-4f12-a29a-d3085ad9ab33",
    "outputId": "55b695eb-8a97-47c9-edd2-8355482a0b86"
   },
   "outputs": [],
   "source": [
    "new_copy3"
   ]
  },
  {
   "cell_type": "code",
   "execution_count": null,
   "id": "9aaa942a-be53-4585-94ba-13f1cda26029",
   "metadata": {
    "id": "9aaa942a-be53-4585-94ba-13f1cda26029"
   },
   "outputs": [],
   "source": [
    "import numpy as np"
   ]
  },
  {
   "cell_type": "markdown",
   "id": "2545f1f1-c13a-48de-ad54-57330f81840b",
   "metadata": {
    "id": "2545f1f1-c13a-48de-ad54-57330f81840b"
   },
   "source": [
    "\n",
    "#### USing Conditionals\n",
    "if...,if...else, if...elif...else"
   ]
  },
  {
   "cell_type": "code",
   "execution_count": null,
   "id": "fbee7ac7-1d2e-4b01-964b-6dfb62c6c01a",
   "metadata": {
    "id": "fbee7ac7-1d2e-4b01-964b-6dfb62c6c01a"
   },
   "outputs": [],
   "source": [
    "# I am working on the \"Status series\"\n",
    "looping = new_copy[[\"quantity\",\"currency\",\"status\"]].reset_index()"
   ]
  },
  {
   "cell_type": "code",
   "execution_count": null,
   "id": "abf8467e-9a87-4ae4-99f6-e0f506fe7bc4",
   "metadata": {
    "id": "abf8467e-9a87-4ae4-99f6-e0f506fe7bc4",
    "outputId": "a10666ca-6385-4c9c-d949-0655b9fd6f53"
   },
   "outputs": [],
   "source": [
    "looping.head(3)"
   ]
  },
  {
   "cell_type": "code",
   "execution_count": null,
   "id": "d656ca95-495f-4708-8bff-67b371cfd7e1",
   "metadata": {
    "id": "d656ca95-495f-4708-8bff-67b371cfd7e1",
    "outputId": "9338dc32-f659-4ac7-f0ff-daa0677ba318"
   },
   "outputs": [],
   "source": [
    "looping[\"status\"].unique()"
   ]
  },
  {
   "cell_type": "code",
   "execution_count": null,
   "id": "5e66a107-167f-46bc-bb21-a9dd1311d34f",
   "metadata": {
    "id": "5e66a107-167f-46bc-bb21-a9dd1311d34f"
   },
   "outputs": [],
   "source": [
    "looping[\"payement_stat_abr\"] = np.NaN # this will create a new column name and populated it with NaN"
   ]
  },
  {
   "cell_type": "code",
   "execution_count": null,
   "id": "5b1aa11c-8483-4bca-8af4-435edcd10c99",
   "metadata": {
    "id": "5b1aa11c-8483-4bca-8af4-435edcd10c99"
   },
   "outputs": [],
   "source": [
    "looping.loc[0,'payment_stat_abr'] = np.NaN"
   ]
  },
  {
   "cell_type": "code",
   "execution_count": null,
   "id": "883c0de4-867a-413f-a9c7-3144c6a967f2",
   "metadata": {
    "id": "883c0de4-867a-413f-a9c7-3144c6a967f2",
    "outputId": "2b15d293-3151-4bf6-d874-eb44a13ae142"
   },
   "outputs": [],
   "source": [
    "looping.head()"
   ]
  },
  {
   "cell_type": "code",
   "execution_count": null,
   "id": "306b8621-35a0-4834-8182-46323dcd71be",
   "metadata": {
    "id": "306b8621-35a0-4834-8182-46323dcd71be",
    "outputId": "d1a7f0da-78a3-48d3-ad03-71e33142e199"
   },
   "outputs": [],
   "source": [
    "looping[\"status\"].str.strip()"
   ]
  },
  {
   "cell_type": "code",
   "execution_count": null,
   "id": "b7dccbe8-3f6e-48cf-a831-c49f4a315b94",
   "metadata": {
    "id": "b7dccbe8-3f6e-48cf-a831-c49f4a315b94"
   },
   "outputs": [],
   "source": [
    "# for i in range(len(looping)):\n",
    "#     if looping[\"status\"][i] == \"success\":\n",
    "#         looping[\"payment_stat_abr\"][i] = \"s\"\n",
    "\n",
    "#     elif looping[\"status\"][i] == \"failed\":\n",
    "#         looping[\"payment_stat_abr\"][i] = \"f\"\n",
    "\n",
    "#     else:\n",
    "#         looping[\"payment_stat_abr\"][i] = \"c\""
   ]
  },
  {
   "cell_type": "code",
   "execution_count": null,
   "id": "23c83803-5fe4-439c-9546-f7c86b13d0d2",
   "metadata": {
    "id": "23c83803-5fe4-439c-9546-f7c86b13d0d2",
    "outputId": "60591317-d196-482e-9fce-415be3ea57ff"
   },
   "outputs": [],
   "source": [
    "looping.head(2)"
   ]
  },
  {
   "cell_type": "code",
   "execution_count": null,
   "id": "538ce178-981e-4605-ad4c-60857449ebf5",
   "metadata": {
    "id": "538ce178-981e-4605-ad4c-60857449ebf5"
   },
   "outputs": [],
   "source": [
    "#looping.drop(\"payement_stat_abr\", axis = 1, inplace = True)"
   ]
  },
  {
   "cell_type": "code",
   "execution_count": null,
   "id": "a51eb573-1798-42a5-87d6-bd0a2b040af7",
   "metadata": {
    "id": "a51eb573-1798-42a5-87d6-bd0a2b040af7",
    "outputId": "c68c6ae0-dd50-4482-9b66-7f3b8272db8a"
   },
   "outputs": [],
   "source": [
    "looping.head(2)"
   ]
  },
  {
   "cell_type": "code",
   "execution_count": null,
   "id": "1c9772dd-45d7-4678-81f8-612ba2e5b34a",
   "metadata": {
    "id": "1c9772dd-45d7-4678-81f8-612ba2e5b34a",
    "outputId": "163bb291-eed8-482c-a561-44709bfc2922"
   },
   "outputs": [],
   "source": [
    "%%time\n",
    "# lets check out a better method...\n",
    "masks = looping[\"status\"] == \"success\"\n",
    "maskf = looping[\"status\"] == \"failed\"\n",
    "maskc = looping[\"status\"] == \"cancelled\""
   ]
  },
  {
   "cell_type": "code",
   "execution_count": null,
   "id": "52deaf2c-af7c-4f5a-a73c-b27c56e7d355",
   "metadata": {
    "id": "52deaf2c-af7c-4f5a-a73c-b27c56e7d355",
    "outputId": "015412e4-a224-49a5-88ee-152561c7f5c4"
   },
   "outputs": [],
   "source": [
    "looping.loc[masks,\"payement_stat_abr\"] = \"s\"\n",
    "looping.loc[maskf,\"payement_stat_abr\"] = \"f\"\n",
    "looping.loc[maskc,\"payement_stat_abr\"] = \"c\""
   ]
  },
  {
   "cell_type": "code",
   "execution_count": null,
   "id": "93700a56-d55c-4a22-9233-d3f57acb49dc",
   "metadata": {
    "id": "93700a56-d55c-4a22-9233-d3f57acb49dc",
    "outputId": "1cf5f920-cf3f-45b8-b46e-230e2dcfa677"
   },
   "outputs": [],
   "source": [
    "looping.head()"
   ]
  },
  {
   "cell_type": "code",
   "execution_count": null,
   "id": "942fd2d9-80e0-470a-868c-f893ff369e3f",
   "metadata": {
    "id": "942fd2d9-80e0-470a-868c-f893ff369e3f"
   },
   "outputs": [],
   "source": [
    "diction = {'success':'s','failed':'f','cancelled':'c'}"
   ]
  },
  {
   "cell_type": "code",
   "execution_count": null,
   "id": "1ff156cf-128c-4f47-b81d-04eba9862f77",
   "metadata": {
    "id": "1ff156cf-128c-4f47-b81d-04eba9862f77"
   },
   "outputs": [],
   "source": [
    "def fasterloop(df,search_col_name, applycolumns,dictionaryofvalues,elsevalue = \"\"):\n",
    "    for i, j in diction.items():\n",
    "        mask = df[search_col_name] == i\n",
    "        df.loc[mask,applycolumns] == j\n",
    "    if elsevalue == \"\":\n",
    "        pass\n",
    "    else:\n",
    "        df = df[applycolumnname.fillna(elsevalue)]\n",
    "\n",
    "\n"
   ]
  },
  {
   "cell_type": "code",
   "execution_count": null,
   "id": "cbd7ed13-2ead-4e9d-a2a2-044412a7e601",
   "metadata": {
    "id": "cbd7ed13-2ead-4e9d-a2a2-044412a7e601"
   },
   "outputs": [],
   "source": [
    "fasterloop(looping,\"status\",\"payment_stat_abr\",diction)"
   ]
  },
  {
   "cell_type": "code",
   "execution_count": null,
   "id": "a6203b1e-c143-4a9d-b739-091220caceb9",
   "metadata": {
    "id": "a6203b1e-c143-4a9d-b739-091220caceb9",
    "outputId": "cfd82007-facd-468a-eeab-647438479dc3"
   },
   "outputs": [],
   "source": [
    "looping.head()"
   ]
  },
  {
   "cell_type": "code",
   "execution_count": null,
   "id": "db1c0f48-3c62-40de-b45b-f500c2bc36f8",
   "metadata": {
    "id": "db1c0f48-3c62-40de-b45b-f500c2bc36f8"
   },
   "outputs": [],
   "source": [
    "# lets remove the two columns that had just been created...\n",
    "looping.drop(columns = [\"payement_stat_abr\",\"payment_stat_abr\"], inplace = True)"
   ]
  },
  {
   "cell_type": "code",
   "execution_count": null,
   "id": "51630cd6-7f18-40de-8e33-4e10dae13838",
   "metadata": {
    "id": "51630cd6-7f18-40de-8e33-4e10dae13838",
    "outputId": "e77f8e20-a88a-4900-d1b1-947a4455db02"
   },
   "outputs": [],
   "source": [
    "looping.head(2)"
   ]
  },
  {
   "cell_type": "code",
   "execution_count": null,
   "id": "41eb9fe2-315e-4c32-80cc-8dc7be6123ed",
   "metadata": {
    "id": "41eb9fe2-315e-4c32-80cc-8dc7be6123ed"
   },
   "outputs": [],
   "source": [
    "\n",
    "looping.drop(index = 2, inplace =True)"
   ]
  },
  {
   "cell_type": "code",
   "execution_count": null,
   "id": "b7c86bd3-5ec4-4965-b927-b1ee41305806",
   "metadata": {
    "id": "b7c86bd3-5ec4-4965-b927-b1ee41305806",
    "outputId": "30ab295c-0811-4079-fe22-c65290185243"
   },
   "outputs": [],
   "source": [
    "looping.head(2)"
   ]
  },
  {
   "cell_type": "code",
   "execution_count": null,
   "id": "a64873ca-a2d6-452c-baa2-42905894e875",
   "metadata": {
    "id": "a64873ca-a2d6-452c-baa2-42905894e875"
   },
   "outputs": [],
   "source": [
    "# dropping multiple indexes...\n",
    "looping.drop(index = [0,4,6],inplace = True)\n",
    "# rthis takes off, 0,4 and 6..."
   ]
  },
  {
   "cell_type": "code",
   "execution_count": null,
   "id": "3fb320d9-231e-4d71-91f5-1b53f5697989",
   "metadata": {
    "id": "3fb320d9-231e-4d71-91f5-1b53f5697989",
    "outputId": "5271bd16-12f6-4494-bfdc-f4e9635956c8"
   },
   "outputs": [],
   "source": [
    "looping.head(7)"
   ]
  },
  {
   "cell_type": "code",
   "execution_count": null,
   "id": "6b2d9be0-c5cc-47a8-a524-aed457f82310",
   "metadata": {
    "id": "6b2d9be0-c5cc-47a8-a524-aed457f82310",
    "outputId": "42442477-fe71-4f5c-bc9d-5d5b541afbf4"
   },
   "outputs": [],
   "source": [
    "# dropping multiple rows using mask....\n",
    "mask= looping[\"quantity\"] >= 4\n",
    "looping[mask].shape[0]"
   ]
  },
  {
   "cell_type": "code",
   "execution_count": null,
   "id": "a10969b9-d477-4a02-8131-3efa78068df4",
   "metadata": {
    "id": "a10969b9-d477-4a02-8131-3efa78068df4",
    "outputId": "80b0bcaf-0b1b-435f-ce2c-3e5be9899a07"
   },
   "outputs": [],
   "source": [
    "looping[mask].index"
   ]
  },
  {
   "cell_type": "code",
   "execution_count": null,
   "id": "53062243-4088-4058-bac9-9cb3098d3a0f",
   "metadata": {
    "id": "53062243-4088-4058-bac9-9cb3098d3a0f"
   },
   "outputs": [],
   "source": [
    "most_quants = looping.drop(index = looping[~mask].index)"
   ]
  },
  {
   "cell_type": "code",
   "execution_count": null,
   "id": "cfb1594a-dd16-4849-8830-f59fbd1a1030",
   "metadata": {
    "id": "cfb1594a-dd16-4849-8830-f59fbd1a1030",
    "outputId": "78e229ad-0273-4462-be2f-746930d873db"
   },
   "outputs": [],
   "source": [
    "most_quants"
   ]
  },
  {
   "cell_type": "code",
   "execution_count": null,
   "id": "6fc738f0-c646-449f-96e1-0d69832d038d",
   "metadata": {
    "id": "6fc738f0-c646-449f-96e1-0d69832d038d"
   },
   "outputs": [],
   "source": [
    "make_index = looping.copy()"
   ]
  },
  {
   "cell_type": "code",
   "execution_count": null,
   "id": "c26b9f04-4563-4a2a-8124-e9393d9e9888",
   "metadata": {
    "id": "c26b9f04-4563-4a2a-8124-e9393d9e9888"
   },
   "outputs": [],
   "source": [
    "make_index.set_index(\"location\", inplace = True)"
   ]
  },
  {
   "cell_type": "code",
   "execution_count": null,
   "id": "0aa1fd62-1816-4f86-a0c7-cb32cb73d16a",
   "metadata": {
    "id": "0aa1fd62-1816-4f86-a0c7-cb32cb73d16a",
    "outputId": "c6b5ae76-b40a-4dac-b22e-d98fc444e37c"
   },
   "outputs": [],
   "source": [
    "make_index.head(3)"
   ]
  },
  {
   "cell_type": "code",
   "execution_count": null,
   "id": "80a6ce6e-35f2-4669-987b-0f63498250ca",
   "metadata": {
    "id": "80a6ce6e-35f2-4669-987b-0f63498250ca",
    "outputId": "f4f3f4e5-b69e-42d9-f4fc-46ed564aca70"
   },
   "outputs": [],
   "source": [
    "make_index.shape"
   ]
  },
  {
   "cell_type": "code",
   "execution_count": null,
   "id": "c260f054-1060-4cb5-8c6d-1525c4df426b",
   "metadata": {
    "id": "c260f054-1060-4cb5-8c6d-1525c4df426b",
    "outputId": "3df6dac5-79bb-4778-8f24-890af5f384d3"
   },
   "outputs": [],
   "source": [
    "make_index.index"
   ]
  },
  {
   "cell_type": "code",
   "execution_count": null,
   "id": "0b4abbe7-64de-4cb4-8303-1fedddee16c9",
   "metadata": {
    "id": "0b4abbe7-64de-4cb4-8303-1fedddee16c9"
   },
   "outputs": [],
   "source": [
    "make_index.drop(index = \"Saint Helena\", inplace = True)"
   ]
  },
  {
   "cell_type": "code",
   "execution_count": null,
   "id": "0129a8ff-d0aa-4ada-b176-282fa00c75ed",
   "metadata": {
    "id": "0129a8ff-d0aa-4ada-b176-282fa00c75ed",
    "outputId": "9c344661-261d-4ecd-b1de-76be8b0b19fd"
   },
   "outputs": [],
   "source": [
    "make_index.head(3)"
   ]
  },
  {
   "cell_type": "code",
   "execution_count": null,
   "id": "bbf990aa-dd66-4409-a89f-8c6e85a5af2c",
   "metadata": {
    "id": "bbf990aa-dd66-4409-a89f-8c6e85a5af2c",
    "outputId": "582d4c3f-88f2-4684-87b4-9c9a00ba6690"
   },
   "outputs": [],
   "source": [
    "make_index.sort_values(by = \"quantity\").head(10)"
   ]
  },
  {
   "cell_type": "code",
   "execution_count": null,
   "id": "4525aa1e-48ed-4158-80d4-8f5f91017d94",
   "metadata": {
    "id": "4525aa1e-48ed-4158-80d4-8f5f91017d94",
    "outputId": "8a22a424-9ab0-42a1-dedf-098b98346571"
   },
   "outputs": [],
   "source": [
    "make_index.sort_values(by = \"status\", ascending = True).head(10)"
   ]
  },
  {
   "cell_type": "code",
   "execution_count": null,
   "id": "56cd9995-9f98-4c9c-b5b3-21f7279167db",
   "metadata": {
    "id": "56cd9995-9f98-4c9c-b5b3-21f7279167db",
    "outputId": "bf829d30-22e8-4056-f154-55eec8924de8"
   },
   "outputs": [],
   "source": [
    "# sorting by multiple values...\n",
    "make_index.sort_values(by = [\"quantity\",\"currency\"]).head()"
   ]
  },
  {
   "cell_type": "code",
   "execution_count": null,
   "id": "ddc32dd5-4b83-4ef7-aa11-df06aa0d1758",
   "metadata": {
    "id": "ddc32dd5-4b83-4ef7-aa11-df06aa0d1758",
    "outputId": "9338d48e-a94e-4063-e1e5-a159631e134a"
   },
   "outputs": [],
   "source": [
    "# sort quantity in ascending and currency in descending order...\n",
    "make_index.sort_values(by= [\"quantity\",\"currency\"], ascending = [True,False]).head(5)"
   ]
  },
  {
   "cell_type": "code",
   "execution_count": null,
   "id": "486d547d-5511-42df-95f9-a3fcdfd37cf4",
   "metadata": {
    "id": "486d547d-5511-42df-95f9-a3fcdfd37cf4",
    "outputId": "edc8cba0-0b86-445d-f176-85d4485cd9be"
   },
   "outputs": [],
   "source": [
    "make_index.index.sort_values(ascending = False)"
   ]
  },
  {
   "cell_type": "code",
   "execution_count": null,
   "id": "ae18af74-1a83-4a18-aa7c-097eb4ff5d71",
   "metadata": {
    "id": "ae18af74-1a83-4a18-aa7c-097eb4ff5d71"
   },
   "outputs": [],
   "source": [
    "make_index.sort_index(inplace = True)"
   ]
  },
  {
   "cell_type": "code",
   "execution_count": null,
   "id": "17e880f8-be31-40c9-baf1-6aa46bf9efdc",
   "metadata": {
    "id": "17e880f8-be31-40c9-baf1-6aa46bf9efdc",
    "outputId": "d1533222-751d-44de-e219-ba58bb310a2a"
   },
   "outputs": [],
   "source": [
    "make_index"
   ]
  },
  {
   "cell_type": "code",
   "execution_count": null,
   "id": "e09a6a17-47f2-40ff-8a79-21391a12d4c4",
   "metadata": {
    "id": "e09a6a17-47f2-40ff-8a79-21391a12d4c4",
    "outputId": "42c0d58e-7c91-431e-8c13-918990c62209"
   },
   "outputs": [],
   "source": [
    "make_index.dtypes"
   ]
  },
  {
   "cell_type": "markdown",
   "id": "7d22f859-c906-4d20-8b69-e73dfae39940",
   "metadata": {
    "id": "7d22f859-c906-4d20-8b69-e73dfae39940"
   },
   "source": [
    "#### Using groupby()function"
   ]
  },
  {
   "cell_type": "code",
   "execution_count": null,
   "id": "37a7b368-000e-4b7d-892e-f0d22d1ec448",
   "metadata": {
    "id": "37a7b368-000e-4b7d-892e-f0d22d1ec448"
   },
   "outputs": [],
   "source": [
    "grouped_df = make_index"
   ]
  },
  {
   "cell_type": "code",
   "execution_count": null,
   "id": "79ceaff8-b0f2-470f-a1c8-51230ddd585a",
   "metadata": {
    "id": "79ceaff8-b0f2-470f-a1c8-51230ddd585a"
   },
   "outputs": [],
   "source": [
    "grouped = grouped_df.groupby([\"status\"])"
   ]
  },
  {
   "cell_type": "code",
   "execution_count": null,
   "id": "e3851600-5eb2-4a8e-ba9e-bb71f25a94c8",
   "metadata": {
    "id": "e3851600-5eb2-4a8e-ba9e-bb71f25a94c8",
    "outputId": "09f2da53-7265-47f1-fbb1-841874bc4fbd"
   },
   "outputs": [],
   "source": [
    "# status of quantities ordered...\n",
    "grouped[\"quantity\"].count()"
   ]
  },
  {
   "cell_type": "code",
   "execution_count": null,
   "id": "a541a13c-c688-4c77-803f-32a3f394d80f",
   "metadata": {
    "id": "a541a13c-c688-4c77-803f-32a3f394d80f",
    "outputId": "88edfe16-dc05-4aa8-cf53-8371b81bdb8e"
   },
   "outputs": [],
   "source": [
    "grouped[\"quantity\"].sum()"
   ]
  },
  {
   "cell_type": "code",
   "execution_count": null,
   "id": "9ede0bf2-c14b-4f0d-bad6-84d269999587",
   "metadata": {
    "id": "9ede0bf2-c14b-4f0d-bad6-84d269999587",
    "outputId": "ca6bfcaf-e0af-40ce-8a78-2ca796487563"
   },
   "outputs": [],
   "source": [
    "grouped[\"quantity\"].describe()[['min','max','mean']]"
   ]
  },
  {
   "cell_type": "code",
   "execution_count": null,
   "id": "47de5bcc-e533-4689-a036-242b73f4378e",
   "metadata": {
    "id": "47de5bcc-e533-4689-a036-242b73f4378e",
    "outputId": "cc876388-cd06-4400-9e2c-65b7b4ae5667"
   },
   "outputs": [],
   "source": [
    "grouped[\"quantity\"].agg([\"min\",\"max\",\"count\"])"
   ]
  },
  {
   "cell_type": "code",
   "execution_count": null,
   "id": "0f1efcbb-1874-4ca1-8929-48c9e29fb73e",
   "metadata": {
    "id": "0f1efcbb-1874-4ca1-8929-48c9e29fb73e",
    "outputId": "3a6a7afe-aba3-4452-fb5c-844798724e18"
   },
   "outputs": [],
   "source": [
    "failed = grouped.get_group(\"failed\")\n",
    "failed.head(4)"
   ]
  },
  {
   "cell_type": "code",
   "execution_count": null,
   "id": "f4c1caa3-fbe7-4d19-bbda-9412b793b370",
   "metadata": {
    "id": "f4c1caa3-fbe7-4d19-bbda-9412b793b370",
    "outputId": "be71a53b-4962-485c-b0c3-72126997913c"
   },
   "outputs": [],
   "source": [
    "success = grouped.get_group(\"success\")\n",
    "success.head(4)"
   ]
  },
  {
   "cell_type": "code",
   "execution_count": null,
   "id": "3a4a4fb0-f02c-4dda-982c-c307e80c2d0b",
   "metadata": {
    "id": "3a4a4fb0-f02c-4dda-982c-c307e80c2d0b",
    "outputId": "a477677f-e99d-4736-b9ca-5474d112b5dd"
   },
   "outputs": [],
   "source": [
    "cancelled =  grouped.get_group(\"cancelled\")\n",
    "cancelled.head(4)"
   ]
  },
  {
   "cell_type": "code",
   "execution_count": null,
   "id": "f65ee885-5e5a-4ddc-ba50-4b273d4fc8b5",
   "metadata": {
    "id": "f65ee885-5e5a-4ddc-ba50-4b273d4fc8b5",
    "outputId": "90c57ecb-0486-42c2-800c-0feafe80807c"
   },
   "outputs": [],
   "source": [
    "cancelled[\"currency\"].unique()"
   ]
  },
  {
   "cell_type": "code",
   "execution_count": null,
   "id": "f5a833b5-3dcb-462a-9356-b6c97af02e4b",
   "metadata": {
    "id": "f5a833b5-3dcb-462a-9356-b6c97af02e4b",
    "outputId": "567aa1b6-8e12-498c-da40-5d50c9e5ef9e"
   },
   "outputs": [],
   "source": [
    "cancelled[\"quantity\"].describe().T"
   ]
  },
  {
   "cell_type": "code",
   "execution_count": null,
   "id": "19b13824-ae0d-4f0d-8159-5eebe6a194d2",
   "metadata": {
    "id": "19b13824-ae0d-4f0d-8159-5eebe6a194d2",
    "outputId": "9eb4b955-b886-482b-de89-bfad7add0a42"
   },
   "outputs": [],
   "source": [
    "grouped[\"quantity\"].describe()[[\"min\",\"max\"]].sort_values(by = \"min\")"
   ]
  },
  {
   "cell_type": "code",
   "execution_count": null,
   "id": "259ea2b3-bfca-4cec-b708-1623cc7be11e",
   "metadata": {
    "id": "259ea2b3-bfca-4cec-b708-1623cc7be11e",
    "outputId": "8565439d-040c-45a4-ed1b-de5b863ee322"
   },
   "outputs": [],
   "source": [
    "len(make_index[\"currency\"].unique())"
   ]
  },
  {
   "cell_type": "code",
   "execution_count": null,
   "id": "9d1b1a1b-414b-42c6-b7d9-4ed66d102394",
   "metadata": {
    "id": "9d1b1a1b-414b-42c6-b7d9-4ed66d102394",
    "outputId": "f8037683-ae99-42d4-8d03-e501f78a569d"
   },
   "outputs": [],
   "source": [
    "make_index[\"currency\"].nunique()"
   ]
  },
  {
   "cell_type": "code",
   "execution_count": null,
   "id": "3625890e-563b-4bd6-b084-690edaa30972",
   "metadata": {
    "id": "3625890e-563b-4bd6-b084-690edaa30972",
    "outputId": "12897ff7-35f0-4289-9a82-00a6cbc63ff0"
   },
   "outputs": [],
   "source": [
    "sales.head(4)"
   ]
  },
  {
   "cell_type": "code",
   "execution_count": null,
   "id": "52d90b13-6200-4a21-8332-3ae970e34083",
   "metadata": {
    "id": "52d90b13-6200-4a21-8332-3ae970e34083"
   },
   "outputs": [],
   "source": [
    "sales.set_index(\"event_timestamp\",inplace = True)"
   ]
  },
  {
   "cell_type": "code",
   "execution_count": null,
   "id": "4a12f6a3-afd9-4e8c-a16e-3e2fc7dba313",
   "metadata": {
    "id": "4a12f6a3-afd9-4e8c-a16e-3e2fc7dba313",
    "outputId": "bc5f6ea1-c73c-45cd-af52-8c9bed781bad"
   },
   "outputs": [],
   "source": [
    "sales.head(3)"
   ]
  },
  {
   "cell_type": "code",
   "execution_count": null,
   "id": "ffbb59c4-de2a-45b6-a5bf-f92f54c17db7",
   "metadata": {
    "id": "ffbb59c4-de2a-45b6-a5bf-f92f54c17db7",
    "outputId": "847eed0e-1ef1-48cc-c131-f41f9d037073"
   },
   "outputs": [],
   "source": [
    "sales.reset_index()"
   ]
  },
  {
   "cell_type": "code",
   "execution_count": null,
   "id": "0ad0a9eb-23d3-4ac8-aeff-027edde9c7f3",
   "metadata": {
    "id": "0ad0a9eb-23d3-4ac8-aeff-027edde9c7f3"
   },
   "outputs": [],
   "source": []
  },
  {
   "cell_type": "code",
   "execution_count": null,
   "id": "ad093aec-9a16-44c7-aeef-a463dfae7ee4",
   "metadata": {
    "id": "ad093aec-9a16-44c7-aeef-a463dfae7ee4"
   },
   "outputs": [],
   "source": []
  },
  {
   "cell_type": "code",
   "execution_count": null,
   "id": "af99d9b2-0f40-4c96-9cf0-db32bb5a5643",
   "metadata": {
    "id": "af99d9b2-0f40-4c96-9cf0-db32bb5a5643"
   },
   "outputs": [],
   "source": []
  },
  {
   "cell_type": "code",
   "execution_count": null,
   "id": "039d7eba-3990-4272-9b1f-1e743d272b6d",
   "metadata": {
    "id": "039d7eba-3990-4272-9b1f-1e743d272b6d"
   },
   "outputs": [],
   "source": []
  },
  {
   "cell_type": "code",
   "execution_count": null,
   "id": "acbc009f-495b-4be2-aedb-7373fe1fa0bc",
   "metadata": {
    "id": "acbc009f-495b-4be2-aedb-7373fe1fa0bc"
   },
   "outputs": [],
   "source": []
  },
  {
   "cell_type": "code",
   "execution_count": null,
   "id": "6a6d6ef4-0e32-4f04-b4fb-228f9b036209",
   "metadata": {
    "id": "6a6d6ef4-0e32-4f04-b4fb-228f9b036209"
   },
   "outputs": [],
   "source": [
    "#make_index[\"quantity\"].nlargest(3)"
   ]
  },
  {
   "cell_type": "code",
   "execution_count": null,
   "id": "040ce0c5-317e-4eab-af6c-d5e7e6013892",
   "metadata": {
    "id": "040ce0c5-317e-4eab-af6c-d5e7e6013892"
   },
   "outputs": [],
   "source": [
    "# lets see the entire dataframe...\n",
    "#make_index.nlargest(3, \"quantity\").head(5)"
   ]
  },
  {
   "cell_type": "code",
   "execution_count": null,
   "id": "2e592874-12f0-491c-bc7d-d32304a40901",
   "metadata": {
    "id": "2e592874-12f0-491c-bc7d-d32304a40901"
   },
   "outputs": [],
   "source": [
    "# lets see the 10 smallest\n",
    "#make_index[\"quantity\"].nsmallest(2)"
   ]
  },
  {
   "cell_type": "code",
   "execution_count": null,
   "id": "b213f26f-95fe-4f4f-8dc0-60b994682f3d",
   "metadata": {
    "id": "b213f26f-95fe-4f4f-8dc0-60b994682f3d"
   },
   "outputs": [],
   "source": [
    "#make_index.nsmallest(2, \"quantity\").head(5)"
   ]
  },
  {
   "cell_type": "code",
   "execution_count": null,
   "id": "cd66c198-7ff1-4a64-b36a-31a8b77d0391",
   "metadata": {
    "id": "cd66c198-7ff1-4a64-b36a-31a8b77d0391"
   },
   "outputs": [],
   "source": []
  },
  {
   "cell_type": "code",
   "execution_count": null,
   "id": "b23102e1-b7a7-4abf-ba65-c934e6b09290",
   "metadata": {
    "id": "b23102e1-b7a7-4abf-ba65-c934e6b09290"
   },
   "outputs": [],
   "source": []
  }
 ],
 "metadata": {
  "colab": {
   "provenance": []
  },
  "kernelspec": {
   "display_name": "Python 3",
   "language": "python",
   "name": "python3"
  },
  "language_info": {
   "codemirror_mode": {
    "name": "ipython",
    "version": 3
   },
   "file_extension": ".py",
   "mimetype": "text/x-python",
   "name": "python",
   "nbconvert_exporter": "python",
   "pygments_lexer": "ipython3",
   "version": "3.13.7"
  }
 },
 "nbformat": 4,
 "nbformat_minor": 5
}
