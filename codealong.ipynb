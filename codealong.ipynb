{
 "cells": [
  {
   "cell_type": "markdown",
   "id": "31064d24",
   "metadata": {},
   "source": [
    "# Code along for Pandas_101 "
   ]
  },
  {
   "cell_type": "markdown",
   "id": "561bf5e4",
   "metadata": {},
   "source": [
    "### importing libries"
   ]
  },
  {
   "cell_type": "code",
   "execution_count": 18,
   "id": "13ee91f9",
   "metadata": {},
   "outputs": [],
   "source": [
    "import pandas as pd\n",
    "import matplotlib.pyplot as plt"
   ]
  },
  {
   "cell_type": "markdown",
   "id": "f653f590",
   "metadata": {},
   "source": [
    "### Loading data"
   ]
  },
  {
   "cell_type": "code",
   "execution_count": 2,
   "id": "8d652434",
   "metadata": {},
   "outputs": [
    {
     "data": {
      "text/html": [
       "<div>\n",
       "<style scoped>\n",
       "    .dataframe tbody tr th:only-of-type {\n",
       "        vertical-align: middle;\n",
       "    }\n",
       "\n",
       "    .dataframe tbody tr th {\n",
       "        vertical-align: top;\n",
       "    }\n",
       "\n",
       "    .dataframe thead th {\n",
       "        text-align: right;\n",
       "    }\n",
       "</style>\n",
       "<table border=\"1\" class=\"dataframe\">\n",
       "  <thead>\n",
       "    <tr style=\"text-align: right;\">\n",
       "      <th></th>\n",
       "      <th>customer_id</th>\n",
       "      <th>device_id</th>\n",
       "      <th>item_id</th>\n",
       "      <th>line_item_id</th>\n",
       "      <th>order_id</th>\n",
       "      <th>event_id</th>\n",
       "      <th>event_timestamp</th>\n",
       "      <th>quantity</th>\n",
       "      <th>currency</th>\n",
       "      <th>checked_out_at</th>\n",
       "      <th>status</th>\n",
       "      <th>location</th>\n",
       "    </tr>\n",
       "  </thead>\n",
       "  <tbody>\n",
       "    <tr>\n",
       "      <th>0</th>\n",
       "      <td>cda7bec0-7cbf-4145-baf9-e049bab94504</td>\n",
       "      <td>33b485de-7338-4997-b1d0-b988ba17b245</td>\n",
       "      <td>4</td>\n",
       "      <td>3201</td>\n",
       "      <td>9e950ce3-2e12-479c-a051-493c1a497d49</td>\n",
       "      <td>14786</td>\n",
       "      <td>2024-03-26 22:05:58.863661</td>\n",
       "      <td>2</td>\n",
       "      <td>NGN</td>\n",
       "      <td>2024-03-30 04:19:10.406794</td>\n",
       "      <td>success</td>\n",
       "      <td>Saint Helena</td>\n",
       "    </tr>\n",
       "    <tr>\n",
       "      <th>1</th>\n",
       "      <td>cda7bec0-7cbf-4145-baf9-e049bab94504</td>\n",
       "      <td>33b485de-7338-4997-b1d0-b988ba17b245</td>\n",
       "      <td>5</td>\n",
       "      <td>3202</td>\n",
       "      <td>9e950ce3-2e12-479c-a051-493c1a497d49</td>\n",
       "      <td>14786</td>\n",
       "      <td>2024-03-26 22:05:58.863661</td>\n",
       "      <td>4</td>\n",
       "      <td>NGN</td>\n",
       "      <td>2024-03-30 04:19:10.406794</td>\n",
       "      <td>success</td>\n",
       "      <td>Saint Helena</td>\n",
       "    </tr>\n",
       "    <tr>\n",
       "      <th>2</th>\n",
       "      <td>cda7bec0-7cbf-4145-baf9-e049bab94504</td>\n",
       "      <td>33b485de-7338-4997-b1d0-b988ba17b245</td>\n",
       "      <td>9</td>\n",
       "      <td>3203</td>\n",
       "      <td>9e950ce3-2e12-479c-a051-493c1a497d49</td>\n",
       "      <td>14786</td>\n",
       "      <td>2024-03-26 22:05:58.863661</td>\n",
       "      <td>5</td>\n",
       "      <td>NGN</td>\n",
       "      <td>2024-03-30 04:19:10.406794</td>\n",
       "      <td>success</td>\n",
       "      <td>Saint Helena</td>\n",
       "    </tr>\n",
       "    <tr>\n",
       "      <th>3</th>\n",
       "      <td>cda7bec0-7cbf-4145-baf9-e049bab94504</td>\n",
       "      <td>33b485de-7338-4997-b1d0-b988ba17b245</td>\n",
       "      <td>12</td>\n",
       "      <td>3204</td>\n",
       "      <td>9e950ce3-2e12-479c-a051-493c1a497d49</td>\n",
       "      <td>14786</td>\n",
       "      <td>2024-03-26 22:05:58.863661</td>\n",
       "      <td>1</td>\n",
       "      <td>NGN</td>\n",
       "      <td>2024-03-30 04:19:10.406794</td>\n",
       "      <td>success</td>\n",
       "      <td>Saint Helena</td>\n",
       "    </tr>\n",
       "    <tr>\n",
       "      <th>4</th>\n",
       "      <td>cda7bec0-7cbf-4145-baf9-e049bab94504</td>\n",
       "      <td>33b485de-7338-4997-b1d0-b988ba17b245</td>\n",
       "      <td>6</td>\n",
       "      <td>3205</td>\n",
       "      <td>9e950ce3-2e12-479c-a051-493c1a497d49</td>\n",
       "      <td>14786</td>\n",
       "      <td>2024-03-26 22:05:58.863661</td>\n",
       "      <td>2</td>\n",
       "      <td>NGN</td>\n",
       "      <td>2024-03-30 04:19:10.406794</td>\n",
       "      <td>success</td>\n",
       "      <td>Saint Helena</td>\n",
       "    </tr>\n",
       "  </tbody>\n",
       "</table>\n",
       "</div>"
      ],
      "text/plain": [
       "                            customer_id                             device_id  \\\n",
       "0  cda7bec0-7cbf-4145-baf9-e049bab94504  33b485de-7338-4997-b1d0-b988ba17b245   \n",
       "1  cda7bec0-7cbf-4145-baf9-e049bab94504  33b485de-7338-4997-b1d0-b988ba17b245   \n",
       "2  cda7bec0-7cbf-4145-baf9-e049bab94504  33b485de-7338-4997-b1d0-b988ba17b245   \n",
       "3  cda7bec0-7cbf-4145-baf9-e049bab94504  33b485de-7338-4997-b1d0-b988ba17b245   \n",
       "4  cda7bec0-7cbf-4145-baf9-e049bab94504  33b485de-7338-4997-b1d0-b988ba17b245   \n",
       "\n",
       "   item_id  line_item_id                              order_id  event_id  \\\n",
       "0        4          3201  9e950ce3-2e12-479c-a051-493c1a497d49     14786   \n",
       "1        5          3202  9e950ce3-2e12-479c-a051-493c1a497d49     14786   \n",
       "2        9          3203  9e950ce3-2e12-479c-a051-493c1a497d49     14786   \n",
       "3       12          3204  9e950ce3-2e12-479c-a051-493c1a497d49     14786   \n",
       "4        6          3205  9e950ce3-2e12-479c-a051-493c1a497d49     14786   \n",
       "\n",
       "              event_timestamp  quantity currency              checked_out_at  \\\n",
       "0  2024-03-26 22:05:58.863661         2      NGN  2024-03-30 04:19:10.406794   \n",
       "1  2024-03-26 22:05:58.863661         4      NGN  2024-03-30 04:19:10.406794   \n",
       "2  2024-03-26 22:05:58.863661         5      NGN  2024-03-30 04:19:10.406794   \n",
       "3  2024-03-26 22:05:58.863661         1      NGN  2024-03-30 04:19:10.406794   \n",
       "4  2024-03-26 22:05:58.863661         2      NGN  2024-03-30 04:19:10.406794   \n",
       "\n",
       "    status      location  \n",
       "0  success  Saint Helena  \n",
       "1  success  Saint Helena  \n",
       "2  success  Saint Helena  \n",
       "3  success  Saint Helena  \n",
       "4  success  Saint Helena  "
      ]
     },
     "execution_count": 2,
     "metadata": {},
     "output_type": "execute_result"
    }
   ],
   "source": [
    "sales_data= pd.read_csv(\"sales_data.xlsx\")\n",
    "sales_data.head()"
   ]
  },
  {
   "cell_type": "markdown",
   "id": "18a7aa78",
   "metadata": {},
   "source": [
    "### Using loc and iloc"
   ]
  },
  {
   "cell_type": "code",
   "execution_count": null,
   "id": "8f75811e",
   "metadata": {},
   "outputs": [],
   "source": [
    "sales_data.loc[[566,343,6]]"
   ]
  },
  {
   "cell_type": "code",
   "execution_count": null,
   "id": "7b44fd2a",
   "metadata": {},
   "outputs": [],
   "source": [
    "sales_data.loc[[566,343,6]]"
   ]
  },
  {
   "cell_type": "markdown",
   "id": "1ef687c3",
   "metadata": {},
   "source": [
    "### Indexing columns and rows"
   ]
  },
  {
   "cell_type": "code",
   "execution_count": 3,
   "id": "32ac7267",
   "metadata": {},
   "outputs": [
    {
     "data": {
      "text/plain": [
       "Index(['customer_id', 'device_id', 'item_id', 'line_item_id', 'order_id',\n",
       "       'event_id', 'event_timestamp', 'quantity', 'currency', 'checked_out_at',\n",
       "       'status', 'location'],\n",
       "      dtype='object')"
      ]
     },
     "execution_count": 3,
     "metadata": {},
     "output_type": "execute_result"
    }
   ],
   "source": [
    "sales_data.columns"
   ]
  },
  {
   "cell_type": "code",
   "execution_count": null,
   "id": "49b53ecf",
   "metadata": {},
   "outputs": [],
   "source": [
    "sales_data.loc[:40, \"customer_id\":\"status\"]"
   ]
  },
  {
   "cell_type": "code",
   "execution_count": 4,
   "id": "f6b8e187",
   "metadata": {},
   "outputs": [
    {
     "data": {
      "text/html": [
       "<div>\n",
       "<style scoped>\n",
       "    .dataframe tbody tr th:only-of-type {\n",
       "        vertical-align: middle;\n",
       "    }\n",
       "\n",
       "    .dataframe tbody tr th {\n",
       "        vertical-align: top;\n",
       "    }\n",
       "\n",
       "    .dataframe thead th {\n",
       "        text-align: right;\n",
       "    }\n",
       "</style>\n",
       "<table border=\"1\" class=\"dataframe\">\n",
       "  <thead>\n",
       "    <tr style=\"text-align: right;\">\n",
       "      <th></th>\n",
       "      <th>customer_id</th>\n",
       "      <th>device_id</th>\n",
       "      <th>item_id</th>\n",
       "      <th>line_item_id</th>\n",
       "      <th>order_id</th>\n",
       "      <th>event_id</th>\n",
       "      <th>event_timestamp</th>\n",
       "      <th>quantity</th>\n",
       "      <th>currency</th>\n",
       "      <th>checked_out_at</th>\n",
       "      <th>status</th>\n",
       "    </tr>\n",
       "    <tr>\n",
       "      <th>location</th>\n",
       "      <th></th>\n",
       "      <th></th>\n",
       "      <th></th>\n",
       "      <th></th>\n",
       "      <th></th>\n",
       "      <th></th>\n",
       "      <th></th>\n",
       "      <th></th>\n",
       "      <th></th>\n",
       "      <th></th>\n",
       "      <th></th>\n",
       "    </tr>\n",
       "  </thead>\n",
       "  <tbody>\n",
       "    <tr>\n",
       "      <th>Saint Helena</th>\n",
       "      <td>cda7bec0-7cbf-4145-baf9-e049bab94504</td>\n",
       "      <td>33b485de-7338-4997-b1d0-b988ba17b245</td>\n",
       "      <td>4</td>\n",
       "      <td>3201</td>\n",
       "      <td>9e950ce3-2e12-479c-a051-493c1a497d49</td>\n",
       "      <td>14786</td>\n",
       "      <td>2024-03-26 22:05:58.863661</td>\n",
       "      <td>2</td>\n",
       "      <td>NGN</td>\n",
       "      <td>2024-03-30 04:19:10.406794</td>\n",
       "      <td>success</td>\n",
       "    </tr>\n",
       "    <tr>\n",
       "      <th>Saint Helena</th>\n",
       "      <td>cda7bec0-7cbf-4145-baf9-e049bab94504</td>\n",
       "      <td>33b485de-7338-4997-b1d0-b988ba17b245</td>\n",
       "      <td>5</td>\n",
       "      <td>3202</td>\n",
       "      <td>9e950ce3-2e12-479c-a051-493c1a497d49</td>\n",
       "      <td>14786</td>\n",
       "      <td>2024-03-26 22:05:58.863661</td>\n",
       "      <td>4</td>\n",
       "      <td>NGN</td>\n",
       "      <td>2024-03-30 04:19:10.406794</td>\n",
       "      <td>success</td>\n",
       "    </tr>\n",
       "    <tr>\n",
       "      <th>Saint Helena</th>\n",
       "      <td>cda7bec0-7cbf-4145-baf9-e049bab94504</td>\n",
       "      <td>33b485de-7338-4997-b1d0-b988ba17b245</td>\n",
       "      <td>9</td>\n",
       "      <td>3203</td>\n",
       "      <td>9e950ce3-2e12-479c-a051-493c1a497d49</td>\n",
       "      <td>14786</td>\n",
       "      <td>2024-03-26 22:05:58.863661</td>\n",
       "      <td>5</td>\n",
       "      <td>NGN</td>\n",
       "      <td>2024-03-30 04:19:10.406794</td>\n",
       "      <td>success</td>\n",
       "    </tr>\n",
       "  </tbody>\n",
       "</table>\n",
       "</div>"
      ],
      "text/plain": [
       "                                       customer_id  \\\n",
       "location                                             \n",
       "Saint Helena  cda7bec0-7cbf-4145-baf9-e049bab94504   \n",
       "Saint Helena  cda7bec0-7cbf-4145-baf9-e049bab94504   \n",
       "Saint Helena  cda7bec0-7cbf-4145-baf9-e049bab94504   \n",
       "\n",
       "                                         device_id  item_id  line_item_id  \\\n",
       "location                                                                    \n",
       "Saint Helena  33b485de-7338-4997-b1d0-b988ba17b245        4          3201   \n",
       "Saint Helena  33b485de-7338-4997-b1d0-b988ba17b245        5          3202   \n",
       "Saint Helena  33b485de-7338-4997-b1d0-b988ba17b245        9          3203   \n",
       "\n",
       "                                          order_id  event_id  \\\n",
       "location                                                       \n",
       "Saint Helena  9e950ce3-2e12-479c-a051-493c1a497d49     14786   \n",
       "Saint Helena  9e950ce3-2e12-479c-a051-493c1a497d49     14786   \n",
       "Saint Helena  9e950ce3-2e12-479c-a051-493c1a497d49     14786   \n",
       "\n",
       "                         event_timestamp  quantity currency  \\\n",
       "location                                                      \n",
       "Saint Helena  2024-03-26 22:05:58.863661         2      NGN   \n",
       "Saint Helena  2024-03-26 22:05:58.863661         4      NGN   \n",
       "Saint Helena  2024-03-26 22:05:58.863661         5      NGN   \n",
       "\n",
       "                          checked_out_at   status  \n",
       "location                                           \n",
       "Saint Helena  2024-03-30 04:19:10.406794  success  \n",
       "Saint Helena  2024-03-30 04:19:10.406794  success  \n",
       "Saint Helena  2024-03-30 04:19:10.406794  success  "
      ]
     },
     "execution_count": 4,
     "metadata": {},
     "output_type": "execute_result"
    }
   ],
   "source": [
    "sales_data.set_index(\"location\", inplace=True)\n",
    "sales_data.head(3)"
   ]
  },
  {
   "cell_type": "code",
   "execution_count": 5,
   "id": "31024164",
   "metadata": {},
   "outputs": [
    {
     "data": {
      "text/plain": [
       "Index(['Saint Helena', 'Saint Helena', 'Saint Helena', 'Saint Helena',\n",
       "       'Saint Helena', 'Saint Helena', 'Saint Helena', 'Saint Helena',\n",
       "       'Saint Helena', 'Saint Helena',\n",
       "       ...\n",
       "       'Christmas Island', 'Christmas Island', 'Christmas Island',\n",
       "       'Christmas Island', 'Christmas Island', 'Christmas Island',\n",
       "       'Christmas Island', 'Christmas Island', 'Christmas Island',\n",
       "       'Christmas Island'],\n",
       "      dtype='object', name='location', length=578320)"
      ]
     },
     "execution_count": 5,
     "metadata": {},
     "output_type": "execute_result"
    }
   ],
   "source": [
    "sales_data.index"
   ]
  },
  {
   "cell_type": "code",
   "execution_count": null,
   "id": "cda8a3af",
   "metadata": {},
   "outputs": [],
   "source": [
    "locations= sales_data.index.unique().sort_values()\n",
    "locations"
   ]
  },
  {
   "cell_type": "code",
   "execution_count": null,
   "id": "47eb4f1a",
   "metadata": {},
   "outputs": [
    {
     "name": "stdout",
     "output_type": "stream",
     "text": [
      "Total count of locations or countries where all the customers purchase from is: 243\n"
     ]
    }
   ],
   "source": [
    "\n",
    "no_of_locations=sales_data.index.nunique()\n",
    "print(f\"Total count of locations or countries where all the customers purchase from is: {no_of_locations}\")"
   ]
  },
  {
   "cell_type": "code",
   "execution_count": 23,
   "id": "fb6feaaf",
   "metadata": {},
   "outputs": [
    {
     "data": {
      "text/plain": [
       "location\n",
       "Korea                          6997\n",
       "Argentina                      4507\n",
       "Mauritius                      4414\n",
       "Jersey                         4130\n",
       "Panama                         3936\n",
       "French Guiana                  3851\n",
       "Guernsey                       3804\n",
       "Guatemala                      3731\n",
       "Albania                        3721\n",
       "Philippines                    3675\n",
       "Mali                           3670\n",
       "Congo                          3642\n",
       "Finland                        3615\n",
       "Cape Verde                     3509\n",
       "Christmas Island               3471\n",
       "China                          3429\n",
       "France                         3425\n",
       "French Southern Territories    3421\n",
       "Poland                         3355\n",
       "Cyprus                         3345\n",
       "Name: count, dtype: int64"
      ]
     },
     "execution_count": 23,
     "metadata": {},
     "output_type": "execute_result"
    }
   ],
   "source": [
    "#getting the top 50 countries that patronize\n",
    "top20_countries= sales_data.index.value_counts().head(20)\n",
    "top20_countries"
   ]
  },
  {
   "cell_type": "markdown",
   "id": "35a4ac29",
   "metadata": {},
   "source": [
    "### ploting the top 50 most patronage country"
   ]
  },
  {
   "cell_type": "code",
   "execution_count": 26,
   "id": "ebbb7464",
   "metadata": {},
   "outputs": [
    {
     "data": {
      "text/plain": [
       "(array([ 0,  1,  2,  3,  4,  5,  6,  7,  8,  9, 10, 11, 12, 13, 14, 15, 16,\n",
       "        17, 18, 19]),\n",
       " [Text(0, 0, 'Korea'),\n",
       "  Text(1, 0, 'Argentina'),\n",
       "  Text(2, 0, 'Mauritius'),\n",
       "  Text(3, 0, 'Jersey'),\n",
       "  Text(4, 0, 'Panama'),\n",
       "  Text(5, 0, 'French Guiana'),\n",
       "  Text(6, 0, 'Guernsey'),\n",
       "  Text(7, 0, 'Guatemala'),\n",
       "  Text(8, 0, 'Albania'),\n",
       "  Text(9, 0, 'Philippines'),\n",
       "  Text(10, 0, 'Mali'),\n",
       "  Text(11, 0, 'Congo'),\n",
       "  Text(12, 0, 'Finland'),\n",
       "  Text(13, 0, 'Cape Verde'),\n",
       "  Text(14, 0, 'Christmas Island'),\n",
       "  Text(15, 0, 'China'),\n",
       "  Text(16, 0, 'France'),\n",
       "  Text(17, 0, 'French Southern Territories'),\n",
       "  Text(18, 0, 'Poland'),\n",
       "  Text(19, 0, 'Cyprus')])"
      ]
     },
     "execution_count": 26,
     "metadata": {},
     "output_type": "execute_result"
    },
    {
     "data": {
      "image/png": "[encoded data removed]",
      "text/plain": [
       "<Figure size 2000x1000 with 1 Axes>"
      ]
     },
     "metadata": {},
     "output_type": "display_data"
    }
   ],
   "source": [
    "top20_countries.plot(kind='bar',color=\"purple\", figsize=(20,10))\n",
    "plt.xlabel(\"Customers Locations\")\n",
    "plt.ylabel(\"Numbers of Patronage\")\n",
    "plt.title(\"The top 20 most patronage country\")\n",
    "plt.xticks(rotation=55)"
   ]
  }
 ],
 "metadata": {
  "kernelspec": {
   "display_name": "Python 3",
   "language": "python",
   "name": "python3"
  },
  "language_info": {
   "codemirror_mode": {
    "name": "ipython",
    "version": 3
   },
   "file_extension": ".py",
   "mimetype": "text/x-python",
   "name": "python",
   "nbconvert_exporter": "python",
   "pygments_lexer": "ipython3",
   "version": "3.13.7"
  }
 },
 "nbformat": 4,
 "nbformat_minor": 5
}
